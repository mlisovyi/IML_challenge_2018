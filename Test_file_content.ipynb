{
 "cells": [
  {
   "cell_type": "code",
   "execution_count": 1,
   "metadata": {
    "collapsed": true
   },
   "outputs": [],
   "source": [
    "import pandas as pd"
   ]
  },
  {
   "cell_type": "code",
   "execution_count": 6,
   "metadata": {
    "collapsed": true
   },
   "outputs": [],
   "source": [
    "x = pd.read_pickle('test_full_Nhardest5.pickle')"
   ]
  },
  {
   "cell_type": "code",
   "execution_count": 7,
   "metadata": {},
   "outputs": [
    {
     "name": "stdout",
     "output_type": "stream",
     "text": [
      "<class 'pandas.core.frame.DataFrame'>\n",
      "RangeIndex: 1030015 entries, 0 to 1030014\n",
      "Data columns (total 52 columns):\n",
      "recojet_pt               1030015 non-null float32\n",
      "recojet_eta              1030015 non-null float32\n",
      "recojet_phi              1030015 non-null float32\n",
      "recojet_m                1030015 non-null float32\n",
      "recojet_sd_pt            1030015 non-null float32\n",
      "recojet_sd_eta           1030015 non-null float32\n",
      "recojet_sd_phi           1030015 non-null float32\n",
      "recojet_sd_m             1030015 non-null float32\n",
      "n_constituents           1030015 non-null int32\n",
      "sum_charge               1030015 non-null float64\n",
      "sum_Eem                  1030015 non-null float64\n",
      "sum_Ehad                 1030015 non-null float64\n",
      "constituents_pt_0        1030015 non-null float32\n",
      "constituents_pt_1        1029983 non-null float32\n",
      "constituents_pt_2        1029942 non-null float32\n",
      "constituents_pt_3        1029872 non-null float32\n",
      "constituents_pt_4        1029797 non-null float32\n",
      "constituents_eta_0       1030015 non-null float32\n",
      "constituents_eta_1       1029983 non-null float32\n",
      "constituents_eta_2       1029942 non-null float32\n",
      "constituents_eta_3       1029872 non-null float32\n",
      "constituents_eta_4       1029797 non-null float32\n",
      "constituents_phi_0       1030015 non-null float32\n",
      "constituents_phi_1       1029983 non-null float32\n",
      "constituents_phi_2       1029942 non-null float32\n",
      "constituents_phi_3       1029872 non-null float32\n",
      "constituents_phi_4       1029797 non-null float32\n",
      "constituents_charge_0    1030015 non-null float32\n",
      "constituents_charge_1    1029983 non-null float32\n",
      "constituents_charge_2    1029942 non-null float32\n",
      "constituents_charge_3    1029872 non-null float32\n",
      "constituents_charge_4    1029797 non-null float32\n",
      "constituents_dxy_0       1030015 non-null float32\n",
      "constituents_dxy_1       1029983 non-null float32\n",
      "constituents_dxy_2       1029942 non-null float32\n",
      "constituents_dxy_3       1029872 non-null float32\n",
      "constituents_dxy_4       1029797 non-null float32\n",
      "constituents_dz_0        1030015 non-null float32\n",
      "constituents_dz_1        1029983 non-null float32\n",
      "constituents_dz_2        1029942 non-null float32\n",
      "constituents_dz_3        1029872 non-null float32\n",
      "constituents_dz_4        1029797 non-null float32\n",
      "constituents_Eem_0       1030015 non-null float32\n",
      "constituents_Eem_1       1029983 non-null float32\n",
      "constituents_Eem_2       1029942 non-null float32\n",
      "constituents_Eem_3       1029872 non-null float32\n",
      "constituents_Eem_4       1029797 non-null float32\n",
      "constituents_Ehad_0      1030015 non-null float32\n",
      "constituents_Ehad_1      1029983 non-null float32\n",
      "constituents_Ehad_2      1029942 non-null float32\n",
      "constituents_Ehad_3      1029872 non-null float32\n",
      "constituents_Ehad_4      1029797 non-null float32\n",
      "dtypes: float32(48), float64(3), int32(1)\n",
      "memory usage: 216.1 MB\n"
     ]
    }
   ],
   "source": [
    "x.info()"
   ]
  },
  {
   "cell_type": "code",
   "execution_count": null,
   "metadata": {
    "collapsed": true
   },
   "outputs": [],
   "source": []
  }
 ],
 "metadata": {
  "kernelspec": {
   "display_name": "Python 3",
   "language": "python",
   "name": "python3"
  },
  "language_info": {
   "codemirror_mode": {
    "name": "ipython",
    "version": 3
   },
   "file_extension": ".py",
   "mimetype": "text/x-python",
   "name": "python",
   "nbconvert_exporter": "python",
   "pygments_lexer": "ipython3",
   "version": "3.6.3"
  }
 },
 "nbformat": 4,
 "nbformat_minor": 2
}
