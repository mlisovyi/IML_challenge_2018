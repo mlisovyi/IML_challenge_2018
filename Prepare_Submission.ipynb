{
 "cells": [
  {
   "cell_type": "code",
   "execution_count": 1,
   "metadata": {},
   "outputs": [],
   "source": [
    "import numpy as np\n",
    "import pandas as pd\n",
    "import matplotlib.pyplot as plt\n",
    "import seaborn as sns\n",
    "\n",
    "%matplotlib inline"
   ]
  },
  {
   "cell_type": "code",
   "execution_count": 2,
   "metadata": {},
   "outputs": [],
   "source": [
    "#Used to save and load models. Speculated to be faster for large models in\n",
    "#https://machinelearningmastery.com/save-gradient-boosting-models-xgboost-python/\n",
    "import joblib\n",
    "#XGBoost itself\n",
    "import xgboost as xgb"
   ]
  },
  {
   "cell_type": "markdown",
   "metadata": {},
   "source": [
    "Note that classes/tools from sklearn are imported when needed"
   ]
  },
  {
   "cell_type": "code",
   "execution_count": 3,
   "metadata": {},
   "outputs": [],
   "source": [
    "from IML2018_tools import *"
   ]
  },
  {
   "cell_type": "code",
   "execution_count": 4,
   "metadata": {
    "scrolled": true
   },
   "outputs": [
    {
     "name": "stdout",
     "output_type": "stream",
     "text": [
      "Python 3.6.4 :: Anaconda, Inc.\r\n"
     ]
    }
   ],
   "source": [
    "!python --version"
   ]
  },
  {
   "cell_type": "markdown",
   "metadata": {},
   "source": [
    "# Prepare submission for the test sample"
   ]
  },
  {
   "cell_type": "code",
   "execution_count": 5,
   "metadata": {},
   "outputs": [],
   "source": [
    "test_df = loadInputAsDF('test_full_Nhardest5.pickle')"
   ]
  },
  {
   "cell_type": "code",
   "execution_count": 6,
   "metadata": {},
   "outputs": [
    {
     "data": {
      "text/plain": [
       "(1030015, 52)"
      ]
     },
     "execution_count": 6,
     "metadata": {},
     "output_type": "execute_result"
    }
   ],
   "source": [
    "test_df.shape"
   ]
  },
  {
   "cell_type": "code",
   "execution_count": 7,
   "metadata": {},
   "outputs": [
    {
     "name": "stdout",
     "output_type": "stream",
     "text": [
      "Index(['recojet_pt', 'recojet_eta', 'recojet_phi', 'recojet_m',\n",
      "       'recojet_sd_pt', 'recojet_sd_eta', 'recojet_sd_phi', 'recojet_sd_m',\n",
      "       'n_constituents', 'sum_charge', 'sum_Eem', 'sum_Ehad',\n",
      "       'constituents_pt_0', 'constituents_pt_1', 'constituents_pt_2',\n",
      "       'constituents_pt_3', 'constituents_pt_4', 'constituents_eta_0',\n",
      "       'constituents_eta_1', 'constituents_eta_2', 'constituents_eta_3',\n",
      "       'constituents_eta_4', 'constituents_phi_0', 'constituents_phi_1',\n",
      "       'constituents_phi_2', 'constituents_phi_3', 'constituents_phi_4',\n",
      "       'constituents_charge_0', 'constituents_charge_1',\n",
      "       'constituents_charge_2', 'constituents_charge_3',\n",
      "       'constituents_charge_4', 'constituents_dxy_0', 'constituents_dxy_1',\n",
      "       'constituents_dxy_2', 'constituents_dxy_3', 'constituents_dxy_4',\n",
      "       'constituents_dz_0', 'constituents_dz_1', 'constituents_dz_2',\n",
      "       'constituents_dz_3', 'constituents_dz_4', 'constituents_Eem_0',\n",
      "       'constituents_Eem_1', 'constituents_Eem_2', 'constituents_Eem_3',\n",
      "       'constituents_Eem_4', 'constituents_Ehad_0', 'constituents_Ehad_1',\n",
      "       'constituents_Ehad_2', 'constituents_Ehad_3', 'constituents_Ehad_4'],\n",
      "      dtype='object')\n",
      "Index(['recojet_pt', 'recojet_m', 'recojet_sd_pt', 'recojet_sd_m',\n",
      "       'n_constituents', 'sum_charge', 'sum_Eem', 'sum_Ehad',\n",
      "       'constituents_pt_0', 'constituents_pt_1', 'constituents_pt_2',\n",
      "       'constituents_pt_3', 'constituents_pt_4', 'constituents_dxy_0',\n",
      "       'constituents_dxy_1', 'constituents_dxy_2', 'constituents_dxy_3',\n",
      "       'constituents_dxy_4', 'constituents_dz_0', 'constituents_dz_1',\n",
      "       'constituents_dz_2', 'constituents_dz_3', 'constituents_dz_4',\n",
      "       'constituents_Eem_0', 'constituents_Eem_1', 'constituents_Eem_2',\n",
      "       'constituents_Eem_3', 'constituents_Eem_4', 'constituents_Ehad_0',\n",
      "       'constituents_Ehad_1', 'constituents_Ehad_2', 'constituents_Ehad_3',\n",
      "       'constituents_Ehad_4'],\n",
      "      dtype='object')\n"
     ]
    }
   ],
   "source": [
    "dropColumns(test_df, printColumns=True)"
   ]
  },
  {
   "cell_type": "code",
   "execution_count": 8,
   "metadata": {},
   "outputs": [],
   "source": [
    "clf = joblib.load('gs1_2it_ClfOnly_FullSampleTrained.joblib.dat')"
   ]
  },
  {
   "cell_type": "code",
   "execution_count": 9,
   "metadata": {},
   "outputs": [],
   "source": [
    "y_test_pred = clf.predict(test_df)"
   ]
  },
  {
   "cell_type": "code",
   "execution_count": 10,
   "metadata": {},
   "outputs": [
    {
     "data": {
      "text/plain": [
       "array([ 106.23390198,   73.51747131,   45.24868774, ...,   97.11266327,\n",
       "        215.3613739 ,  297.19360352], dtype=float32)"
      ]
     },
     "execution_count": 10,
     "metadata": {},
     "output_type": "execute_result"
    }
   ],
   "source": [
    "y_test_pred"
   ]
  },
  {
   "cell_type": "code",
   "execution_count": 11,
   "metadata": {},
   "outputs": [],
   "source": [
    "np.save('test_pred_X.npy', y_test_pred)"
   ]
  },
  {
   "cell_type": "code",
   "execution_count": null,
   "metadata": {},
   "outputs": [],
   "source": []
  },
  {
   "cell_type": "markdown",
   "metadata": {},
   "source": [
    "# Reproduce the final evaluation (became available after competition end)"
   ]
  },
  {
   "cell_type": "code",
   "execution_count": 24,
   "metadata": {},
   "outputs": [],
   "source": [
    "test_arr = np.load('qcd_test_truth.npy', encoding='bytes')"
   ]
  },
  {
   "cell_type": "code",
   "execution_count": null,
   "metadata": {},
   "outputs": [],
   "source": []
  },
  {
   "cell_type": "markdown",
   "metadata": {},
   "source": [
    "Note, that the provided file contains a plain array without column names"
   ]
  },
  {
   "cell_type": "markdown",
   "metadata": {},
   "source": [
    "### Loss value without any pT cuts"
   ]
  },
  {
   "cell_type": "code",
   "execution_count": 25,
   "metadata": {
    "scrolled": true
   },
   "outputs": [
    {
     "name": "stderr",
     "output_type": "stream",
     "text": [
      "/home/mlisovyi/atlas/IML2018/IML_challenge_2018/IML2018_tools.py:81: RuntimeWarning: divide by zero encountered in true_divide\n",
      "  ratio = predictions / t\n"
     ]
    },
    {
     "data": {
      "text/plain": [
       "1.5065615970566035"
      ]
     },
     "execution_count": 25,
     "metadata": {},
     "output_type": "execute_result"
    }
   ],
   "source": [
    "evaluate_loss(y_test_pred, test_arr[:,0])"
   ]
  },
  {
   "cell_type": "markdown",
   "metadata": {},
   "source": [
    "### Loss value for 5 < pT < 7 TeV"
   ]
  },
  {
   "cell_type": "code",
   "execution_count": 26,
   "metadata": {},
   "outputs": [],
   "source": [
    "Xtest5to7 = (test_df['recojet_sd_pt'] > 5000) & (test_df['recojet_sd_pt'] < 7000)"
   ]
  },
  {
   "cell_type": "code",
   "execution_count": 29,
   "metadata": {},
   "outputs": [
    {
     "name": "stderr",
     "output_type": "stream",
     "text": [
      "/home/mlisovyi/atlas/IML2018/IML_challenge_2018/IML2018_tools.py:81: RuntimeWarning: divide by zero encountered in true_divide\n",
      "  ratio = predictions / t\n"
     ]
    },
    {
     "data": {
      "text/plain": [
       "1.344810817633795"
      ]
     },
     "execution_count": 29,
     "metadata": {},
     "output_type": "execute_result"
    }
   ],
   "source": [
    "evaluate_loss(y_test_pred[Xtest5to7], test_arr[:,0][Xtest5to7])"
   ]
  },
  {
   "cell_type": "code",
   "execution_count": null,
   "metadata": {},
   "outputs": [],
   "source": []
  }
 ],
 "metadata": {
  "kernelspec": {
   "display_name": "Python 3",
   "language": "python",
   "name": "python3"
  },
  "language_info": {
   "codemirror_mode": {
    "name": "ipython",
    "version": 3
   },
   "file_extension": ".py",
   "mimetype": "text/x-python",
   "name": "python",
   "nbconvert_exporter": "python",
   "pygments_lexer": "ipython3",
   "version": "3.6.4"
  }
 },
 "nbformat": 4,
 "nbformat_minor": 2
}
