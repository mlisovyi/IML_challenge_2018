{
 "cells": [
  {
   "cell_type": "code",
   "execution_count": 1,
   "metadata": {},
   "outputs": [],
   "source": [
    "import numpy as np\n",
    "import pandas as pd\n",
    "import matplotlib.pyplot as plt\n",
    "import seaborn as sns\n",
    "\n",
    "%matplotlib inline"
   ]
  },
  {
   "cell_type": "code",
   "execution_count": 2,
   "metadata": {},
   "outputs": [],
   "source": [
    "#Used to save and load models. Speculated to be faster for large models in\n",
    "#https://machinelearningmastery.com/save-gradient-boosting-models-xgboost-python/\n",
    "import joblib\n",
    "#XGBoost itself\n",
    "import xgboost as xgb"
   ]
  },
  {
   "cell_type": "markdown",
   "metadata": {},
   "source": [
    "Note that classes/tools from sklearn are imported when needed"
   ]
  },
  {
   "cell_type": "code",
   "execution_count": 3,
   "metadata": {},
   "outputs": [],
   "source": [
    "from IML2018_tools import *"
   ]
  },
  {
   "cell_type": "code",
   "execution_count": 4,
   "metadata": {
    "scrolled": true
   },
   "outputs": [
    {
     "name": "stdout",
     "output_type": "stream",
     "text": [
      "Python 3.6.4 :: Anaconda, Inc.\r\n"
     ]
    }
   ],
   "source": [
    "!python --version"
   ]
  },
  {
   "cell_type": "code",
   "execution_count": 5,
   "metadata": {},
   "outputs": [
    {
     "name": "stdout",
     "output_type": "stream",
     "text": [
      "conda_env.list\t\t\t\t      __pycache__\r\n",
      "EDA_and_xgboost.ipynb\t\t\t      README.md\r\n",
      "Evaluate_Models.ipynb\t\t\t      Test_file_content.ipynb\r\n",
      "Feature_Extraction.ipynb\t\t      test_full_Nhardest5.pickle\r\n",
      "gs1_2it_ClfOnly_FullSampleTrained.joblib.dat  test_pred_2.npy\r\n",
      "gs1_2it.joblib.dat\t\t\t      test_pred.npy\r\n",
      "gs1.joblib.dat\t\t\t\t      test_pred_X.npy\r\n",
      "gs2.joblib.dat\t\t\t\t      train10000_mod.pickle\r\n",
      "IML2018_tools.py\t\t\t      train10000.npy\r\n",
      "IML_challenge_2018.zip\t\t\t      train_full_Nhardest5.pickle\r\n",
      "Prepare_Submission.ipynb\r\n"
     ]
    }
   ],
   "source": [
    "!ls"
   ]
  },
  {
   "cell_type": "code",
   "execution_count": 6,
   "metadata": {},
   "outputs": [],
   "source": [
    "#train_file_name = 'train10000.npy'\n",
    "train_file_name = 'train_full_Nhardest5.pickle'"
   ]
  },
  {
   "cell_type": "markdown",
   "metadata": {},
   "source": [
    "Read in the file properly for different file formats"
   ]
  },
  {
   "cell_type": "code",
   "execution_count": 7,
   "metadata": {},
   "outputs": [],
   "source": [
    "train_df = loadInputAsDF(train_file_name, n = None)"
   ]
  },
  {
   "cell_type": "code",
   "execution_count": 8,
   "metadata": {},
   "outputs": [
    {
     "data": {
      "text/plain": [
       "(1042167, 53)"
      ]
     },
     "execution_count": 8,
     "metadata": {},
     "output_type": "execute_result"
    }
   ],
   "source": [
    "train_df.shape"
   ]
  },
  {
   "cell_type": "code",
   "execution_count": 9,
   "metadata": {},
   "outputs": [
    {
     "name": "stdout",
     "output_type": "stream",
     "text": [
      "<class 'pandas.core.frame.DataFrame'>\n",
      "RangeIndex: 1042167 entries, 0 to 1042166\n",
      "Data columns (total 53 columns):\n",
      "genjet_sd_m              1042167 non-null float32\n",
      "recojet_pt               1042167 non-null float32\n",
      "recojet_eta              1042167 non-null float32\n",
      "recojet_phi              1042167 non-null float32\n",
      "recojet_m                1042167 non-null float32\n",
      "recojet_sd_pt            1042167 non-null float32\n",
      "recojet_sd_eta           1042167 non-null float32\n",
      "recojet_sd_phi           1042167 non-null float32\n",
      "recojet_sd_m             1042167 non-null float32\n",
      "n_constituents           1042167 non-null int32\n",
      "sum_charge               1042167 non-null float64\n",
      "sum_Eem                  1042167 non-null float64\n",
      "sum_Ehad                 1042167 non-null float64\n",
      "constituents_pt_0        1042167 non-null float32\n",
      "constituents_pt_1        1042167 non-null float32\n",
      "constituents_pt_2        1042167 non-null float32\n",
      "constituents_pt_3        1042167 non-null float32\n",
      "constituents_pt_4        1042167 non-null float32\n",
      "constituents_eta_0       1042167 non-null float32\n",
      "constituents_eta_1       1042167 non-null float32\n",
      "constituents_eta_2       1042167 non-null float32\n",
      "constituents_eta_3       1042167 non-null float32\n",
      "constituents_eta_4       1042167 non-null float32\n",
      "constituents_phi_0       1042167 non-null float32\n",
      "constituents_phi_1       1042167 non-null float32\n",
      "constituents_phi_2       1042167 non-null float32\n",
      "constituents_phi_3       1042167 non-null float32\n",
      "constituents_phi_4       1042167 non-null float32\n",
      "constituents_charge_0    1042167 non-null float32\n",
      "constituents_charge_1    1042167 non-null float32\n",
      "constituents_charge_2    1042167 non-null float32\n",
      "constituents_charge_3    1042167 non-null float32\n",
      "constituents_charge_4    1042167 non-null float32\n",
      "constituents_dxy_0       1042167 non-null float32\n",
      "constituents_dxy_1       1042167 non-null float32\n",
      "constituents_dxy_2       1042167 non-null float32\n",
      "constituents_dxy_3       1042167 non-null float32\n",
      "constituents_dxy_4       1042167 non-null float32\n",
      "constituents_dz_0        1042167 non-null float32\n",
      "constituents_dz_1        1042167 non-null float32\n",
      "constituents_dz_2        1042167 non-null float32\n",
      "constituents_dz_3        1042167 non-null float32\n",
      "constituents_dz_4        1042167 non-null float32\n",
      "constituents_Eem_0       1042167 non-null float32\n",
      "constituents_Eem_1       1042167 non-null float32\n",
      "constituents_Eem_2       1042167 non-null float32\n",
      "constituents_Eem_3       1042167 non-null float32\n",
      "constituents_Eem_4       1042167 non-null float32\n",
      "constituents_Ehad_0      1042167 non-null float32\n",
      "constituents_Ehad_1      1042167 non-null float32\n",
      "constituents_Ehad_2      1042167 non-null float32\n",
      "constituents_Ehad_3      1042167 non-null float32\n",
      "constituents_Ehad_4      1042167 non-null float32\n",
      "dtypes: float32(49), float64(3), int32(1)\n",
      "memory usage: 222.6 MB\n"
     ]
    }
   ],
   "source": [
    "train_df.info()"
   ]
  },
  {
   "cell_type": "code",
   "execution_count": 10,
   "metadata": {},
   "outputs": [
    {
     "data": {
      "text/plain": [
       "<matplotlib.axes._subplots.AxesSubplot at 0x7f6b998113c8>"
      ]
     },
     "execution_count": 10,
     "metadata": {},
     "output_type": "execute_result"
    },
    {
     "data": {
      "image/png": "[encoded data removed]",
      "text/plain": [
       "<matplotlib.figure.Figure at 0x7f6b8d53fcc0>"
      ]
     },
     "metadata": {},
     "output_type": "display_data"
    }
   ],
   "source": [
    "sns.heatmap(train_df.corr())"
   ]
  },
  {
   "cell_type": "markdown",
   "metadata": {},
   "source": [
    "## EDA"
   ]
  },
  {
   "cell_type": "code",
   "execution_count": 11,
   "metadata": {},
   "outputs": [
    {
     "data": {
      "text/plain": [
       "<matplotlib.axes._subplots.AxesSubplot at 0x7f6b99477390>"
      ]
     },
     "execution_count": 11,
     "metadata": {},
     "output_type": "execute_result"
    },
    {
     "data": {
      "image/png": "[encoded data removed]",
      "text/plain": [
       "<matplotlib.figure.Figure at 0x7f6b99031cc0>"
      ]
     },
     "metadata": {},
     "output_type": "display_data"
    }
   ],
   "source": [
    "sns.distplot(train_df['recojet_pt'])"
   ]
  },
  {
   "cell_type": "code",
   "execution_count": null,
   "metadata": {
    "collapsed": true
   },
   "outputs": [],
   "source": [
    "#for var in ['recojet_pt', 'recojet_eta', 'recojet_phi', 'recojet_m',\n",
    "#       'recojet_sd_pt', 'recojet_sd_eta', 'recojet_sd_phi', 'recojet_sd_m',\n",
    "#       'n_constituents']:\n",
    "#    print(var)\n",
    "#    sns.jointplot(x='genjet_sd_m', y=var, data=train_df, kind='hex')"
   ]
  },
  {
   "cell_type": "markdown",
   "metadata": {},
   "source": [
    "### Drop some columns"
   ]
  },
  {
   "cell_type": "code",
   "execution_count": 12,
   "metadata": {},
   "outputs": [
    {
     "name": "stdout",
     "output_type": "stream",
     "text": [
      "Index(['genjet_sd_m', 'recojet_pt', 'recojet_eta', 'recojet_phi', 'recojet_m',\n",
      "       'recojet_sd_pt', 'recojet_sd_eta', 'recojet_sd_phi', 'recojet_sd_m',\n",
      "       'n_constituents', 'sum_charge', 'sum_Eem', 'sum_Ehad',\n",
      "       'constituents_pt_0', 'constituents_pt_1', 'constituents_pt_2',\n",
      "       'constituents_pt_3', 'constituents_pt_4', 'constituents_eta_0',\n",
      "       'constituents_eta_1', 'constituents_eta_2', 'constituents_eta_3',\n",
      "       'constituents_eta_4', 'constituents_phi_0', 'constituents_phi_1',\n",
      "       'constituents_phi_2', 'constituents_phi_3', 'constituents_phi_4',\n",
      "       'constituents_charge_0', 'constituents_charge_1',\n",
      "       'constituents_charge_2', 'constituents_charge_3',\n",
      "       'constituents_charge_4', 'constituents_dxy_0', 'constituents_dxy_1',\n",
      "       'constituents_dxy_2', 'constituents_dxy_3', 'constituents_dxy_4',\n",
      "       'constituents_dz_0', 'constituents_dz_1', 'constituents_dz_2',\n",
      "       'constituents_dz_3', 'constituents_dz_4', 'constituents_Eem_0',\n",
      "       'constituents_Eem_1', 'constituents_Eem_2', 'constituents_Eem_3',\n",
      "       'constituents_Eem_4', 'constituents_Ehad_0', 'constituents_Ehad_1',\n",
      "       'constituents_Ehad_2', 'constituents_Ehad_3', 'constituents_Ehad_4'],\n",
      "      dtype='object')\n",
      "Index(['genjet_sd_m', 'recojet_pt', 'recojet_m', 'recojet_sd_pt',\n",
      "       'recojet_sd_m', 'n_constituents', 'sum_charge', 'sum_Eem', 'sum_Ehad',\n",
      "       'constituents_pt_0', 'constituents_pt_1', 'constituents_pt_2',\n",
      "       'constituents_pt_3', 'constituents_pt_4', 'constituents_dxy_0',\n",
      "       'constituents_dxy_1', 'constituents_dxy_2', 'constituents_dxy_3',\n",
      "       'constituents_dxy_4', 'constituents_dz_0', 'constituents_dz_1',\n",
      "       'constituents_dz_2', 'constituents_dz_3', 'constituents_dz_4',\n",
      "       'constituents_Eem_0', 'constituents_Eem_1', 'constituents_Eem_2',\n",
      "       'constituents_Eem_3', 'constituents_Eem_4', 'constituents_Ehad_0',\n",
      "       'constituents_Ehad_1', 'constituents_Ehad_2', 'constituents_Ehad_3',\n",
      "       'constituents_Ehad_4'],\n",
      "      dtype='object')\n"
     ]
    }
   ],
   "source": [
    "dropColumns(train_df, printColumns=True)"
   ]
  },
  {
   "cell_type": "markdown",
   "metadata": {},
   "source": [
    "### Split and normalise"
   ]
  },
  {
   "cell_type": "code",
   "execution_count": 13,
   "metadata": {},
   "outputs": [],
   "source": [
    "from sklearn.model_selection import train_test_split"
   ]
  },
  {
   "cell_type": "code",
   "execution_count": 15,
   "metadata": {},
   "outputs": [],
   "source": [
    "X_train, X_test, y_train, y_test = train_test_split(train_df.drop('genjet_sd_m', axis=1), train_df['genjet_sd_m'] , test_size=0.30, random_state=314)"
   ]
  },
  {
   "cell_type": "markdown",
   "metadata": {},
   "source": [
    "## Run only if you want to keep jets between 5 and 7 TeV in the test sample"
   ]
  },
  {
   "cell_type": "code",
   "execution_count": 16,
   "metadata": {},
   "outputs": [],
   "source": [
    "#Xtest5to7 = (X_test['recojet_pt'] > 5000) & (X_test['recojet_pt'] < 7000)"
   ]
  },
  {
   "cell_type": "code",
   "execution_count": 17,
   "metadata": {},
   "outputs": [],
   "source": [
    "#X_test = X_test[Xtest5to7]\n",
    "#y_test = y_test[Xtest5to7]"
   ]
  },
  {
   "cell_type": "code",
   "execution_count": 18,
   "metadata": {},
   "outputs": [
    {
     "data": {
      "text/plain": [
       "<matplotlib.axes._subplots.AxesSubplot at 0x7f6b98ec6710>"
      ]
     },
     "execution_count": 18,
     "metadata": {},
     "output_type": "execute_result"
    },
    {
     "data": {
      "image/png": "[encoded data removed]",
      "text/plain": [
       "<matplotlib.figure.Figure at 0x7f6b98e72ef0>"
      ]
     },
     "metadata": {},
     "output_type": "display_data"
    }
   ],
   "source": [
    "sns.heatmap(X_train.corr())"
   ]
  },
  {
   "cell_type": "code",
   "execution_count": 19,
   "metadata": {},
   "outputs": [],
   "source": [
    "from sklearn.decomposition import PCA\n",
    "pca_trans = PCA()\n",
    "pca_trans.fit(X_train)\n",
    "X_train_pca = pca_trans.transform(X_train)\n",
    "X_test_pca = pca_trans.transform(X_test)"
   ]
  },
  {
   "cell_type": "code",
   "execution_count": 20,
   "metadata": {},
   "outputs": [
    {
     "data": {
      "text/plain": [
       "<matplotlib.axes._subplots.AxesSubplot at 0x7f6b97094a58>"
      ]
     },
     "execution_count": 20,
     "metadata": {},
     "output_type": "execute_result"
    },
    {
     "data": {
      "image/png": "[encoded data removed]",
      "text/plain": [
       "<matplotlib.figure.Figure at 0x7f6b992fa2b0>"
      ]
     },
     "metadata": {},
     "output_type": "display_data"
    }
   ],
   "source": [
    "sns.heatmap(pd.DataFrame(X_test_pca).corr())"
   ]
  },
  {
   "cell_type": "markdown",
   "metadata": {},
   "source": [
    "# XGBoost regressor"
   ]
  },
  {
   "cell_type": "markdown",
   "metadata": {},
   "source": [
    "## Build the XGBoost model and define the metric"
   ]
  },
  {
   "cell_type": "code",
   "execution_count": 21,
   "metadata": {},
   "outputs": [],
   "source": [
    "#preliminary parameters. will be fine-tuned in the GridSearch\n",
    "xgb_params = {'max_depth': 5, 'learning_rate':0.1, 'n_estimators':100,\n",
    "              'silent':1, 'random_state': 314, 'seed': 314, 'n_jobs':4}"
   ]
  },
  {
   "cell_type": "code",
   "execution_count": 22,
   "metadata": {},
   "outputs": [],
   "source": [
    "clf = xgb.XGBRegressor(**xgb_params)"
   ]
  },
  {
   "cell_type": "markdown",
   "metadata": {},
   "source": [
    "## Read GS, if needed"
   ]
  },
  {
   "cell_type": "code",
   "execution_count": 23,
   "metadata": {},
   "outputs": [
    {
     "name": "stderr",
     "output_type": "stream",
     "text": [
      "/home/mlisovyi/anaconda2/envs/coursera_aml_yandex/lib/python3.6/site-packages/sklearn/base.py:315: UserWarning: Trying to unpickle estimator GridSearchCV from version 0.18.1 when using version 0.18.2. This might lead to breaking code or invalid results. Use at your own risk.\n",
      "  UserWarning)\n"
     ]
    }
   ],
   "source": [
    "gs1 = joblib.load('gs1.joblib.dat')\n",
    "gs1_2it = joblib.load('gs1_2it.joblib.dat')\n",
    "gs2 = joblib.load('gs2.joblib.dat')"
   ]
  },
  {
   "cell_type": "markdown",
   "metadata": {},
   "source": [
    "## Run XGBoost with the chosen optimal parameters"
   ]
  },
  {
   "cell_type": "code",
   "execution_count": 25,
   "metadata": {},
   "outputs": [],
   "source": [
    "x = gs1.best_estimator_.get_params()\n",
    "del x['n_job']\n",
    "x['n_jobs'] = 4"
   ]
  },
  {
   "cell_type": "code",
   "execution_count": 26,
   "metadata": {},
   "outputs": [
    {
     "data": {
      "text/plain": [
       "XGBRegressor(base_score=0.5, booster='gbtree', colsample_bylevel=1,\n",
       "       colsample_bytree=0.8, gamma=0, learning_rate=0.1, max_delta_step=0,\n",
       "       max_depth=7, min_child_weight=3, missing=nan, n_estimators=100,\n",
       "       n_jobs=4, nthread=None, objective='reg:linear', random_state=314,\n",
       "       reg_alpha=0.001, reg_lambda=1, scale_pos_weight=1, seed=314,\n",
       "       silent=1, subsample=1)"
      ]
     },
     "execution_count": 26,
     "metadata": {},
     "output_type": "execute_result"
    }
   ],
   "source": [
    "clf.set_params(**x)"
   ]
  },
  {
   "cell_type": "code",
   "execution_count": 27,
   "metadata": {
    "scrolled": true
   },
   "outputs": [
    {
     "name": "stderr",
     "output_type": "stream",
     "text": [
      "/home/mlisovyi/atlas/IML2018/IML_challenge_2018/IML2018_tools.py:81: RuntimeWarning: divide by zero encountered in true_divide\n",
      "  ratio = predictions / t\n"
     ]
    },
    {
     "data": {
      "text/plain": [
       "XGBRegressor(base_score=0.5, booster='gbtree', colsample_bylevel=1,\n",
       "       colsample_bytree=0.8, gamma=0, learning_rate=0.1, max_delta_step=0,\n",
       "       max_depth=7, min_child_weight=3, missing=nan, n_estimators=100,\n",
       "       n_jobs=4, nthread=None, objective='reg:linear', random_state=314,\n",
       "       reg_alpha=0.001, reg_lambda=1, scale_pos_weight=1, seed=314,\n",
       "       silent=1, subsample=1)"
      ]
     },
     "execution_count": 27,
     "metadata": {},
     "output_type": "execute_result"
    }
   ],
   "source": [
    "clf.fit(X_train, y_train, \n",
    "        eval_set=[(X_train, y_train), (X_test, y_test)],\n",
    "        eval_metric=evaluate_loss_xgb,\n",
    "        verbose=False)"
   ]
  },
  {
   "cell_type": "code",
   "execution_count": 28,
   "metadata": {},
   "outputs": [
    {
     "data": {
      "image/png": "[encoded data removed]",
      "text/plain": [
       "<matplotlib.figure.Figure at 0x7f6b968f2a20>"
      ]
     },
     "metadata": {},
     "output_type": "display_data"
    }
   ],
   "source": [
    "plotClfPerfEvolution(clf)"
   ]
  },
  {
   "cell_type": "markdown",
   "metadata": {
    "collapsed": true
   },
   "source": [
    "## Same as above, but for the fine-tuned classifier"
   ]
  },
  {
   "cell_type": "code",
   "execution_count": 29,
   "metadata": {},
   "outputs": [],
   "source": [
    "x = gs1_2it.best_estimator_.get_params()\n",
    "del x['n_job']\n",
    "x['n_jobs'] = 4"
   ]
  },
  {
   "cell_type": "code",
   "execution_count": 30,
   "metadata": {},
   "outputs": [
    {
     "name": "stdout",
     "output_type": "stream",
     "text": [
      "[0]\tvalidation_0-rmse:296.048\tvalidation_1-rmse:296.392\tvalidation_0-xxx:2.22464\tvalidation_1-xxx:2.25466\n"
     ]
    },
    {
     "name": "stderr",
     "output_type": "stream",
     "text": [
      "/home/mlisovyi/atlas/IML2018/IML_challenge_2018/IML2018_tools.py:81: RuntimeWarning: divide by zero encountered in true_divide\n",
      "  ratio = predictions / t\n"
     ]
    },
    {
     "name": "stdout",
     "output_type": "stream",
     "text": [
      "[1]\tvalidation_0-rmse:268.808\tvalidation_1-rmse:269.309\tvalidation_0-xxx:2.18749\tvalidation_1-xxx:2.21925\n",
      "[2]\tvalidation_0-rmse:245.243\tvalidation_1-rmse:245.972\tvalidation_0-xxx:2.21526\tvalidation_1-xxx:2.24617\n",
      "[3]\tvalidation_0-rmse:223.412\tvalidation_1-rmse:224.361\tvalidation_0-xxx:2.15213\tvalidation_1-xxx:2.18086\n",
      "[4]\tvalidation_0-rmse:204.017\tvalidation_1-rmse:205.193\tvalidation_0-xxx:2.08487\tvalidation_1-xxx:2.11302\n",
      "[5]\tvalidation_0-rmse:186.746\tvalidation_1-rmse:188.228\tvalidation_0-xxx:2.04286\tvalidation_1-xxx:2.07893\n",
      "[6]\tvalidation_0-rmse:171.453\tvalidation_1-rmse:173.249\tvalidation_0-xxx:2.00641\tvalidation_1-xxx:2.04314\n",
      "[7]\tvalidation_0-rmse:157.913\tvalidation_1-rmse:160.035\tvalidation_0-xxx:1.98377\tvalidation_1-xxx:2.0185\n",
      "[8]\tvalidation_0-rmse:145.969\tvalidation_1-rmse:148.462\tvalidation_0-xxx:1.95924\tvalidation_1-xxx:1.99933\n",
      "[9]\tvalidation_0-rmse:135.981\tvalidation_1-rmse:138.891\tvalidation_0-xxx:2.00298\tvalidation_1-xxx:2.04322\n",
      "[10]\tvalidation_0-rmse:126.721\tvalidation_1-rmse:130.035\tvalidation_0-xxx:1.97199\tvalidation_1-xxx:2.01391\n",
      "[11]\tvalidation_0-rmse:118.647\tvalidation_1-rmse:122.388\tvalidation_0-xxx:1.94366\tvalidation_1-xxx:1.98802\n",
      "[12]\tvalidation_0-rmse:111.649\tvalidation_1-rmse:115.834\tvalidation_0-xxx:1.91957\tvalidation_1-xxx:1.9664\n",
      "[13]\tvalidation_0-rmse:105.578\tvalidation_1-rmse:110.219\tvalidation_0-xxx:1.89996\tvalidation_1-xxx:1.94387\n",
      "[14]\tvalidation_0-rmse:100.306\tvalidation_1-rmse:105.444\tvalidation_0-xxx:1.87628\tvalidation_1-xxx:1.92027\n",
      "[15]\tvalidation_0-rmse:95.7766\tvalidation_1-rmse:101.374\tvalidation_0-xxx:1.85647\tvalidation_1-xxx:1.90208\n",
      "[16]\tvalidation_0-rmse:91.9031\tvalidation_1-rmse:97.9492\tvalidation_0-xxx:1.84431\tvalidation_1-xxx:1.88922\n",
      "[17]\tvalidation_0-rmse:88.6\tvalidation_1-rmse:95.0748\tvalidation_0-xxx:1.83036\tvalidation_1-xxx:1.87567\n",
      "[18]\tvalidation_0-rmse:85.7798\tvalidation_1-rmse:92.6605\tvalidation_0-xxx:1.81521\tvalidation_1-xxx:1.86216\n",
      "[19]\tvalidation_0-rmse:83.383\tvalidation_1-rmse:90.6486\tvalidation_0-xxx:1.80442\tvalidation_1-xxx:1.85234\n",
      "[20]\tvalidation_0-rmse:81.3384\tvalidation_1-rmse:88.9662\tvalidation_0-xxx:1.78781\tvalidation_1-xxx:1.83598\n",
      "[21]\tvalidation_0-rmse:79.5871\tvalidation_1-rmse:87.5687\tvalidation_0-xxx:1.76956\tvalidation_1-xxx:1.81859\n",
      "[22]\tvalidation_0-rmse:78.0607\tvalidation_1-rmse:86.4136\tvalidation_0-xxx:1.75413\tvalidation_1-xxx:1.80299\n",
      "[23]\tvalidation_0-rmse:76.834\tvalidation_1-rmse:85.4666\tvalidation_0-xxx:1.7428\tvalidation_1-xxx:1.79203\n",
      "[24]\tvalidation_0-rmse:75.9689\tvalidation_1-rmse:84.8825\tvalidation_0-xxx:1.74111\tvalidation_1-xxx:1.79156\n",
      "[25]\tvalidation_0-rmse:74.9875\tvalidation_1-rmse:84.1875\tvalidation_0-xxx:1.73107\tvalidation_1-xxx:1.78009\n",
      "[26]\tvalidation_0-rmse:74.1859\tvalidation_1-rmse:83.6274\tvalidation_0-xxx:1.71888\tvalidation_1-xxx:1.76705\n",
      "[27]\tvalidation_0-rmse:73.4396\tvalidation_1-rmse:83.1539\tvalidation_0-xxx:1.70646\tvalidation_1-xxx:1.75598\n",
      "[28]\tvalidation_0-rmse:72.7746\tvalidation_1-rmse:82.7615\tvalidation_0-xxx:1.69556\tvalidation_1-xxx:1.74584\n",
      "[29]\tvalidation_0-rmse:72.2054\tvalidation_1-rmse:82.4424\tvalidation_0-xxx:1.68975\tvalidation_1-xxx:1.74065\n",
      "[30]\tvalidation_0-rmse:71.772\tvalidation_1-rmse:82.2036\tvalidation_0-xxx:1.68891\tvalidation_1-xxx:1.74029\n",
      "[31]\tvalidation_0-rmse:71.2836\tvalidation_1-rmse:81.9816\tvalidation_0-xxx:1.67573\tvalidation_1-xxx:1.72863\n",
      "[32]\tvalidation_0-rmse:70.8844\tvalidation_1-rmse:81.7795\tvalidation_0-xxx:1.66388\tvalidation_1-xxx:1.71867\n",
      "[33]\tvalidation_0-rmse:70.5326\tvalidation_1-rmse:81.6273\tvalidation_0-xxx:1.64983\tvalidation_1-xxx:1.70525\n",
      "[34]\tvalidation_0-rmse:70.2231\tvalidation_1-rmse:81.5025\tvalidation_0-xxx:1.63947\tvalidation_1-xxx:1.69704\n",
      "[35]\tvalidation_0-rmse:69.9353\tvalidation_1-rmse:81.3894\tvalidation_0-xxx:1.62999\tvalidation_1-xxx:1.69031\n",
      "[36]\tvalidation_0-rmse:69.6784\tvalidation_1-rmse:81.3041\tvalidation_0-xxx:1.62198\tvalidation_1-xxx:1.68545\n",
      "[37]\tvalidation_0-rmse:69.4331\tvalidation_1-rmse:81.2232\tvalidation_0-xxx:1.61201\tvalidation_1-xxx:1.67595\n",
      "[38]\tvalidation_0-rmse:69.2208\tvalidation_1-rmse:81.1685\tvalidation_0-xxx:1.60605\tvalidation_1-xxx:1.66913\n",
      "[39]\tvalidation_0-rmse:69.0322\tvalidation_1-rmse:81.1127\tvalidation_0-xxx:1.59703\tvalidation_1-xxx:1.66034\n",
      "[40]\tvalidation_0-rmse:68.7797\tvalidation_1-rmse:81.0653\tvalidation_0-xxx:1.58622\tvalidation_1-xxx:1.65062\n",
      "[41]\tvalidation_0-rmse:68.6017\tvalidation_1-rmse:81.0291\tvalidation_0-xxx:1.57954\tvalidation_1-xxx:1.64521\n",
      "[42]\tvalidation_0-rmse:68.3946\tvalidation_1-rmse:80.9974\tvalidation_0-xxx:1.57214\tvalidation_1-xxx:1.6392\n",
      "[43]\tvalidation_0-rmse:68.248\tvalidation_1-rmse:80.9771\tvalidation_0-xxx:1.57037\tvalidation_1-xxx:1.63691\n",
      "[44]\tvalidation_0-rmse:68.1144\tvalidation_1-rmse:80.9493\tvalidation_0-xxx:1.55994\tvalidation_1-xxx:1.62744\n",
      "[45]\tvalidation_0-rmse:67.9584\tvalidation_1-rmse:80.9301\tvalidation_0-xxx:1.55431\tvalidation_1-xxx:1.62319\n",
      "[46]\tvalidation_0-rmse:67.7409\tvalidation_1-rmse:80.9164\tvalidation_0-xxx:1.54908\tvalidation_1-xxx:1.61754\n",
      "[47]\tvalidation_0-rmse:67.5718\tvalidation_1-rmse:80.8951\tvalidation_0-xxx:1.54387\tvalidation_1-xxx:1.61506\n",
      "[48]\tvalidation_0-rmse:67.4277\tvalidation_1-rmse:80.8765\tvalidation_0-xxx:1.53852\tvalidation_1-xxx:1.61141\n",
      "[49]\tvalidation_0-rmse:67.2824\tvalidation_1-rmse:80.861\tvalidation_0-xxx:1.5316\tvalidation_1-xxx:1.60702\n",
      "[50]\tvalidation_0-rmse:67.1586\tvalidation_1-rmse:80.8425\tvalidation_0-xxx:1.52618\tvalidation_1-xxx:1.60091\n",
      "[51]\tvalidation_0-rmse:67.0222\tvalidation_1-rmse:80.8309\tvalidation_0-xxx:1.52009\tvalidation_1-xxx:1.59621\n",
      "[52]\tvalidation_0-rmse:66.8956\tvalidation_1-rmse:80.8136\tvalidation_0-xxx:1.51191\tvalidation_1-xxx:1.5888\n",
      "[53]\tvalidation_0-rmse:66.7221\tvalidation_1-rmse:80.8055\tvalidation_0-xxx:1.50568\tvalidation_1-xxx:1.58609\n",
      "[54]\tvalidation_0-rmse:66.6044\tvalidation_1-rmse:80.7948\tvalidation_0-xxx:1.50047\tvalidation_1-xxx:1.58247\n",
      "[55]\tvalidation_0-rmse:66.5079\tvalidation_1-rmse:80.7852\tvalidation_0-xxx:1.49699\tvalidation_1-xxx:1.57857\n",
      "[56]\tvalidation_0-rmse:66.4374\tvalidation_1-rmse:80.7795\tvalidation_0-xxx:1.49473\tvalidation_1-xxx:1.57769\n",
      "[57]\tvalidation_0-rmse:66.1767\tvalidation_1-rmse:80.7732\tvalidation_0-xxx:1.48873\tvalidation_1-xxx:1.57231\n",
      "[58]\tvalidation_0-rmse:66.0472\tvalidation_1-rmse:80.7601\tvalidation_0-xxx:1.485\tvalidation_1-xxx:1.57126\n",
      "[59]\tvalidation_0-rmse:65.9832\tvalidation_1-rmse:80.7518\tvalidation_0-xxx:1.4801\tvalidation_1-xxx:1.56678\n",
      "[60]\tvalidation_0-rmse:65.8446\tvalidation_1-rmse:80.7523\tvalidation_0-xxx:1.47743\tvalidation_1-xxx:1.56412\n",
      "[61]\tvalidation_0-rmse:65.6619\tvalidation_1-rmse:80.7436\tvalidation_0-xxx:1.47477\tvalidation_1-xxx:1.56106\n",
      "[62]\tvalidation_0-rmse:65.5659\tvalidation_1-rmse:80.7395\tvalidation_0-xxx:1.47097\tvalidation_1-xxx:1.55954\n",
      "[63]\tvalidation_0-rmse:65.4719\tvalidation_1-rmse:80.7369\tvalidation_0-xxx:1.47036\tvalidation_1-xxx:1.55863\n",
      "[64]\tvalidation_0-rmse:65.3678\tvalidation_1-rmse:80.7328\tvalidation_0-xxx:1.46595\tvalidation_1-xxx:1.55615\n",
      "[65]\tvalidation_0-rmse:65.269\tvalidation_1-rmse:80.7272\tvalidation_0-xxx:1.46578\tvalidation_1-xxx:1.55509\n",
      "[66]\tvalidation_0-rmse:65.1787\tvalidation_1-rmse:80.7203\tvalidation_0-xxx:1.45981\tvalidation_1-xxx:1.5513\n",
      "[67]\tvalidation_0-rmse:65.0822\tvalidation_1-rmse:80.7258\tvalidation_0-xxx:1.45808\tvalidation_1-xxx:1.55024\n",
      "[68]\tvalidation_0-rmse:64.951\tvalidation_1-rmse:80.7262\tvalidation_0-xxx:1.45345\tvalidation_1-xxx:1.54745\n",
      "[69]\tvalidation_0-rmse:64.8649\tvalidation_1-rmse:80.7246\tvalidation_0-xxx:1.45206\tvalidation_1-xxx:1.54689\n",
      "[70]\tvalidation_0-rmse:64.7653\tvalidation_1-rmse:80.7228\tvalidation_0-xxx:1.44753\tvalidation_1-xxx:1.54404\n",
      "[71]\tvalidation_0-rmse:64.6867\tvalidation_1-rmse:80.7188\tvalidation_0-xxx:1.44655\tvalidation_1-xxx:1.54362\n",
      "[72]\tvalidation_0-rmse:64.6027\tvalidation_1-rmse:80.7194\tvalidation_0-xxx:1.44674\tvalidation_1-xxx:1.54432\n",
      "[73]\tvalidation_0-rmse:64.5109\tvalidation_1-rmse:80.7201\tvalidation_0-xxx:1.44582\tvalidation_1-xxx:1.54342\n",
      "[74]\tvalidation_0-rmse:64.3827\tvalidation_1-rmse:80.7168\tvalidation_0-xxx:1.44129\tvalidation_1-xxx:1.54076\n",
      "[75]\tvalidation_0-rmse:64.3018\tvalidation_1-rmse:80.7146\tvalidation_0-xxx:1.44074\tvalidation_1-xxx:1.54099\n",
      "[76]\tvalidation_0-rmse:64.2231\tvalidation_1-rmse:80.708\tvalidation_0-xxx:1.43818\tvalidation_1-xxx:1.53852\n",
      "[77]\tvalidation_0-rmse:64.1701\tvalidation_1-rmse:80.71\tvalidation_0-xxx:1.43728\tvalidation_1-xxx:1.53765\n"
     ]
    },
    {
     "name": "stdout",
     "output_type": "stream",
     "text": [
      "[78]\tvalidation_0-rmse:64.0798\tvalidation_1-rmse:80.7095\tvalidation_0-xxx:1.43454\tvalidation_1-xxx:1.53615\n",
      "[79]\tvalidation_0-rmse:64.0044\tvalidation_1-rmse:80.7071\tvalidation_0-xxx:1.43278\tvalidation_1-xxx:1.53506\n",
      "[80]\tvalidation_0-rmse:63.9072\tvalidation_1-rmse:80.7011\tvalidation_0-xxx:1.43288\tvalidation_1-xxx:1.53452\n",
      "[81]\tvalidation_0-rmse:63.8405\tvalidation_1-rmse:80.7068\tvalidation_0-xxx:1.43012\tvalidation_1-xxx:1.53135\n",
      "[82]\tvalidation_0-rmse:63.7131\tvalidation_1-rmse:80.707\tvalidation_0-xxx:1.42794\tvalidation_1-xxx:1.52952\n",
      "[83]\tvalidation_0-rmse:63.6289\tvalidation_1-rmse:80.7104\tvalidation_0-xxx:1.42704\tvalidation_1-xxx:1.52773\n",
      "[84]\tvalidation_0-rmse:63.5631\tvalidation_1-rmse:80.7079\tvalidation_0-xxx:1.42641\tvalidation_1-xxx:1.52807\n",
      "[85]\tvalidation_0-rmse:63.4937\tvalidation_1-rmse:80.7062\tvalidation_0-xxx:1.42495\tvalidation_1-xxx:1.52794\n",
      "[86]\tvalidation_0-rmse:63.4432\tvalidation_1-rmse:80.7092\tvalidation_0-xxx:1.42391\tvalidation_1-xxx:1.52689\n",
      "[87]\tvalidation_0-rmse:63.3446\tvalidation_1-rmse:80.7111\tvalidation_0-xxx:1.42005\tvalidation_1-xxx:1.52337\n",
      "[88]\tvalidation_0-rmse:63.2486\tvalidation_1-rmse:80.7089\tvalidation_0-xxx:1.41643\tvalidation_1-xxx:1.52083\n",
      "[89]\tvalidation_0-rmse:63.1846\tvalidation_1-rmse:80.7074\tvalidation_0-xxx:1.41445\tvalidation_1-xxx:1.51935\n",
      "[90]\tvalidation_0-rmse:63.1192\tvalidation_1-rmse:80.7044\tvalidation_0-xxx:1.41476\tvalidation_1-xxx:1.51858\n",
      "[91]\tvalidation_0-rmse:63.0344\tvalidation_1-rmse:80.7022\tvalidation_0-xxx:1.41218\tvalidation_1-xxx:1.51681\n",
      "[92]\tvalidation_0-rmse:62.9588\tvalidation_1-rmse:80.7017\tvalidation_0-xxx:1.40984\tvalidation_1-xxx:1.51458\n",
      "[93]\tvalidation_0-rmse:62.8779\tvalidation_1-rmse:80.7046\tvalidation_0-xxx:1.41087\tvalidation_1-xxx:1.51459\n",
      "[94]\tvalidation_0-rmse:62.8042\tvalidation_1-rmse:80.7114\tvalidation_0-xxx:1.40936\tvalidation_1-xxx:1.51403\n",
      "[95]\tvalidation_0-rmse:62.7287\tvalidation_1-rmse:80.7115\tvalidation_0-xxx:1.40919\tvalidation_1-xxx:1.5145\n",
      "[96]\tvalidation_0-rmse:62.6574\tvalidation_1-rmse:80.713\tvalidation_0-xxx:1.40818\tvalidation_1-xxx:1.51358\n",
      "[97]\tvalidation_0-rmse:62.6173\tvalidation_1-rmse:80.7124\tvalidation_0-xxx:1.40727\tvalidation_1-xxx:1.51275\n",
      "[98]\tvalidation_0-rmse:62.5446\tvalidation_1-rmse:80.7075\tvalidation_0-xxx:1.40546\tvalidation_1-xxx:1.51239\n",
      "[99]\tvalidation_0-rmse:62.4772\tvalidation_1-rmse:80.7081\tvalidation_0-xxx:1.40207\tvalidation_1-xxx:1.50978\n"
     ]
    },
    {
     "data": {
      "text/plain": [
       "XGBRegressor(base_score=0.5, booster='gbtree', colsample_bylevel=1,\n",
       "       colsample_bytree=0.8, gamma=0.001, learning_rate=0.1,\n",
       "       max_delta_step=0, max_depth=11, min_child_weight=1, missing=nan,\n",
       "       n_estimators=100, n_jobs=4, nthread=None, objective='reg:linear',\n",
       "       random_state=314, reg_alpha=1e-05, reg_lambda=1, scale_pos_weight=1,\n",
       "       seed=314, silent=1, subsample=1)"
      ]
     },
     "execution_count": 30,
     "metadata": {},
     "output_type": "execute_result"
    }
   ],
   "source": [
    "clf.set_params(**x)\n",
    "clf.fit(X_train, y_train, \n",
    "        eval_set=[(X_train, y_train), (X_test, y_test)],\n",
    "        eval_metric=evaluate_loss_xgb,\n",
    "        verbose=True)"
   ]
  },
  {
   "cell_type": "code",
   "execution_count": 31,
   "metadata": {},
   "outputs": [
    {
     "data": {
      "image/png": "[encoded data removed]",
      "text/plain": [
       "<matplotlib.figure.Figure at 0x7f6b96438eb8>"
      ]
     },
     "metadata": {},
     "output_type": "display_data"
    }
   ],
   "source": [
    "plotClfPerfEvolution(clf, title='Fine-tuned XGboost (2ns iteration of GS) with FULL TRAINING SET')"
   ]
  },
  {
   "cell_type": "code",
   "execution_count": 32,
   "metadata": {},
   "outputs": [],
   "source": [
    "#joblib.dump(clf, 'gs1_2it_ClfOnly_FullSampleTrained.joblib.dat')"
   ]
  },
  {
   "cell_type": "markdown",
   "metadata": {},
   "source": [
    "## Try to continue training"
   ]
  },
  {
   "cell_type": "code",
   "execution_count": 33,
   "metadata": {},
   "outputs": [
    {
     "name": "stdout",
     "output_type": "stream",
     "text": [
      "[0]\tvalidation_0-rmse:62.3972\tvalidation_1-rmse:80.7094\tvalidation_0-xxx:1.40054\tvalidation_1-xxx:1.50898\n"
     ]
    },
    {
     "name": "stderr",
     "output_type": "stream",
     "text": [
      "/home/mlisovyi/atlas/IML2018/IML_challenge_2018/IML2018_tools.py:81: RuntimeWarning: divide by zero encountered in true_divide\n",
      "  ratio = predictions / t\n"
     ]
    },
    {
     "name": "stdout",
     "output_type": "stream",
     "text": [
      "[1]\tvalidation_0-rmse:62.3446\tvalidation_1-rmse:80.7101\tvalidation_0-xxx:1.39999\tvalidation_1-xxx:1.50832\n",
      "[2]\tvalidation_0-rmse:62.2781\tvalidation_1-rmse:80.7111\tvalidation_0-xxx:1.39851\tvalidation_1-xxx:1.50616\n",
      "[3]\tvalidation_0-rmse:62.1982\tvalidation_1-rmse:80.716\tvalidation_0-xxx:1.39791\tvalidation_1-xxx:1.50538\n",
      "[4]\tvalidation_0-rmse:62.1148\tvalidation_1-rmse:80.7152\tvalidation_0-xxx:1.39611\tvalidation_1-xxx:1.50544\n",
      "[5]\tvalidation_0-rmse:62.0418\tvalidation_1-rmse:80.7196\tvalidation_0-xxx:1.39275\tvalidation_1-xxx:1.50317\n",
      "[6]\tvalidation_0-rmse:61.975\tvalidation_1-rmse:80.718\tvalidation_0-xxx:1.3912\tvalidation_1-xxx:1.50247\n",
      "[7]\tvalidation_0-rmse:61.9139\tvalidation_1-rmse:80.7182\tvalidation_0-xxx:1.3891\tvalidation_1-xxx:1.50052\n",
      "[8]\tvalidation_0-rmse:61.8215\tvalidation_1-rmse:80.7174\tvalidation_0-xxx:1.3881\tvalidation_1-xxx:1.49977\n",
      "[9]\tvalidation_0-rmse:61.7438\tvalidation_1-rmse:80.7227\tvalidation_0-xxx:1.38682\tvalidation_1-xxx:1.50011\n",
      "[10]\tvalidation_0-rmse:61.6861\tvalidation_1-rmse:80.7249\tvalidation_0-xxx:1.38652\tvalidation_1-xxx:1.49961\n",
      "[11]\tvalidation_0-rmse:61.6199\tvalidation_1-rmse:80.7238\tvalidation_0-xxx:1.38476\tvalidation_1-xxx:1.49892\n",
      "[12]\tvalidation_0-rmse:61.5563\tvalidation_1-rmse:80.7249\tvalidation_0-xxx:1.38272\tvalidation_1-xxx:1.49703\n",
      "[13]\tvalidation_0-rmse:61.4911\tvalidation_1-rmse:80.7236\tvalidation_0-xxx:1.38165\tvalidation_1-xxx:1.49625\n",
      "[14]\tvalidation_0-rmse:61.4257\tvalidation_1-rmse:80.7223\tvalidation_0-xxx:1.38014\tvalidation_1-xxx:1.49561\n",
      "[15]\tvalidation_0-rmse:61.3417\tvalidation_1-rmse:80.7221\tvalidation_0-xxx:1.37878\tvalidation_1-xxx:1.49495\n",
      "[16]\tvalidation_0-rmse:61.2619\tvalidation_1-rmse:80.7232\tvalidation_0-xxx:1.37827\tvalidation_1-xxx:1.49529\n",
      "[17]\tvalidation_0-rmse:61.2122\tvalidation_1-rmse:80.7243\tvalidation_0-xxx:1.37659\tvalidation_1-xxx:1.49459\n",
      "[18]\tvalidation_0-rmse:61.1429\tvalidation_1-rmse:80.7244\tvalidation_0-xxx:1.37488\tvalidation_1-xxx:1.49337\n",
      "[19]\tvalidation_0-rmse:61.068\tvalidation_1-rmse:80.7253\tvalidation_0-xxx:1.3737\tvalidation_1-xxx:1.49217\n",
      "[20]\tvalidation_0-rmse:60.9797\tvalidation_1-rmse:80.7294\tvalidation_0-xxx:1.37222\tvalidation_1-xxx:1.49234\n",
      "[21]\tvalidation_0-rmse:60.9397\tvalidation_1-rmse:80.7319\tvalidation_0-xxx:1.37254\tvalidation_1-xxx:1.49239\n",
      "[22]\tvalidation_0-rmse:60.8753\tvalidation_1-rmse:80.7311\tvalidation_0-xxx:1.37154\tvalidation_1-xxx:1.49171\n",
      "[23]\tvalidation_0-rmse:60.8094\tvalidation_1-rmse:80.7263\tvalidation_0-xxx:1.37055\tvalidation_1-xxx:1.49072\n",
      "[24]\tvalidation_0-rmse:60.7478\tvalidation_1-rmse:80.7238\tvalidation_0-xxx:1.3703\tvalidation_1-xxx:1.49066\n",
      "[25]\tvalidation_0-rmse:60.6855\tvalidation_1-rmse:80.7255\tvalidation_0-xxx:1.36782\tvalidation_1-xxx:1.48999\n",
      "[26]\tvalidation_0-rmse:60.6408\tvalidation_1-rmse:80.7254\tvalidation_0-xxx:1.36684\tvalidation_1-xxx:1.48959\n",
      "[27]\tvalidation_0-rmse:60.5439\tvalidation_1-rmse:80.7256\tvalidation_0-xxx:1.36504\tvalidation_1-xxx:1.48759\n",
      "[28]\tvalidation_0-rmse:60.4729\tvalidation_1-rmse:80.7285\tvalidation_0-xxx:1.36371\tvalidation_1-xxx:1.488\n",
      "[29]\tvalidation_0-rmse:60.4138\tvalidation_1-rmse:80.7323\tvalidation_0-xxx:1.36361\tvalidation_1-xxx:1.48829\n",
      "[30]\tvalidation_0-rmse:60.3711\tvalidation_1-rmse:80.7316\tvalidation_0-xxx:1.36333\tvalidation_1-xxx:1.48675\n",
      "[31]\tvalidation_0-rmse:60.3303\tvalidation_1-rmse:80.7314\tvalidation_0-xxx:1.36187\tvalidation_1-xxx:1.48604\n",
      "[32]\tvalidation_0-rmse:60.2711\tvalidation_1-rmse:80.7303\tvalidation_0-xxx:1.36025\tvalidation_1-xxx:1.48483\n",
      "[33]\tvalidation_0-rmse:60.2035\tvalidation_1-rmse:80.7306\tvalidation_0-xxx:1.35917\tvalidation_1-xxx:1.48347\n",
      "[34]\tvalidation_0-rmse:60.156\tvalidation_1-rmse:80.7313\tvalidation_0-xxx:1.35806\tvalidation_1-xxx:1.48279\n",
      "[35]\tvalidation_0-rmse:60.1104\tvalidation_1-rmse:80.7316\tvalidation_0-xxx:1.35779\tvalidation_1-xxx:1.48307\n",
      "[36]\tvalidation_0-rmse:60.0568\tvalidation_1-rmse:80.7331\tvalidation_0-xxx:1.35665\tvalidation_1-xxx:1.48196\n",
      "[37]\tvalidation_0-rmse:60.0305\tvalidation_1-rmse:80.7334\tvalidation_0-xxx:1.35672\tvalidation_1-xxx:1.48281\n",
      "[38]\tvalidation_0-rmse:59.9655\tvalidation_1-rmse:80.7351\tvalidation_0-xxx:1.35533\tvalidation_1-xxx:1.48168\n",
      "[39]\tvalidation_0-rmse:59.9244\tvalidation_1-rmse:80.735\tvalidation_0-xxx:1.35484\tvalidation_1-xxx:1.48198\n",
      "[40]\tvalidation_0-rmse:59.854\tvalidation_1-rmse:80.7345\tvalidation_0-xxx:1.35303\tvalidation_1-xxx:1.48115\n",
      "[41]\tvalidation_0-rmse:59.8116\tvalidation_1-rmse:80.7368\tvalidation_0-xxx:1.35354\tvalidation_1-xxx:1.48131\n",
      "[42]\tvalidation_0-rmse:59.7545\tvalidation_1-rmse:80.7387\tvalidation_0-xxx:1.35244\tvalidation_1-xxx:1.48005\n",
      "[43]\tvalidation_0-rmse:59.7008\tvalidation_1-rmse:80.7396\tvalidation_0-xxx:1.35108\tvalidation_1-xxx:1.47933\n",
      "[44]\tvalidation_0-rmse:59.6751\tvalidation_1-rmse:80.739\tvalidation_0-xxx:1.34969\tvalidation_1-xxx:1.4785\n",
      "[45]\tvalidation_0-rmse:59.6217\tvalidation_1-rmse:80.7383\tvalidation_0-xxx:1.34922\tvalidation_1-xxx:1.47846\n",
      "[46]\tvalidation_0-rmse:59.5861\tvalidation_1-rmse:80.7388\tvalidation_0-xxx:1.34879\tvalidation_1-xxx:1.47875\n",
      "[47]\tvalidation_0-rmse:59.512\tvalidation_1-rmse:80.7355\tvalidation_0-xxx:1.34653\tvalidation_1-xxx:1.47559\n",
      "[48]\tvalidation_0-rmse:59.433\tvalidation_1-rmse:80.7388\tvalidation_0-xxx:1.34489\tvalidation_1-xxx:1.47464\n",
      "[49]\tvalidation_0-rmse:59.3964\tvalidation_1-rmse:80.7404\tvalidation_0-xxx:1.34448\tvalidation_1-xxx:1.47462\n",
      "[50]\tvalidation_0-rmse:59.3431\tvalidation_1-rmse:80.7406\tvalidation_0-xxx:1.34453\tvalidation_1-xxx:1.4739\n",
      "[51]\tvalidation_0-rmse:59.3056\tvalidation_1-rmse:80.7399\tvalidation_0-xxx:1.34404\tvalidation_1-xxx:1.47287\n",
      "[52]\tvalidation_0-rmse:59.2507\tvalidation_1-rmse:80.7404\tvalidation_0-xxx:1.3429\tvalidation_1-xxx:1.47342\n",
      "[53]\tvalidation_0-rmse:59.2048\tvalidation_1-rmse:80.7409\tvalidation_0-xxx:1.34197\tvalidation_1-xxx:1.47244\n",
      "[54]\tvalidation_0-rmse:59.1503\tvalidation_1-rmse:80.7436\tvalidation_0-xxx:1.34227\tvalidation_1-xxx:1.47289\n",
      "[55]\tvalidation_0-rmse:59.1246\tvalidation_1-rmse:80.7395\tvalidation_0-xxx:1.34136\tvalidation_1-xxx:1.47301\n",
      "[56]\tvalidation_0-rmse:59.0598\tvalidation_1-rmse:80.7415\tvalidation_0-xxx:1.34026\tvalidation_1-xxx:1.4729\n",
      "[57]\tvalidation_0-rmse:59.0117\tvalidation_1-rmse:80.7463\tvalidation_0-xxx:1.33893\tvalidation_1-xxx:1.47311\n",
      "[58]\tvalidation_0-rmse:58.9062\tvalidation_1-rmse:80.7457\tvalidation_0-xxx:1.33636\tvalidation_1-xxx:1.47113\n",
      "[59]\tvalidation_0-rmse:58.8707\tvalidation_1-rmse:80.7456\tvalidation_0-xxx:1.33508\tvalidation_1-xxx:1.47091\n",
      "[60]\tvalidation_0-rmse:58.8307\tvalidation_1-rmse:80.7441\tvalidation_0-xxx:1.33502\tvalidation_1-xxx:1.47063\n",
      "[61]\tvalidation_0-rmse:58.7874\tvalidation_1-rmse:80.7446\tvalidation_0-xxx:1.33455\tvalidation_1-xxx:1.47025\n",
      "[62]\tvalidation_0-rmse:58.7148\tvalidation_1-rmse:80.7414\tvalidation_0-xxx:1.33311\tvalidation_1-xxx:1.46919\n",
      "[63]\tvalidation_0-rmse:58.6527\tvalidation_1-rmse:80.7483\tvalidation_0-xxx:1.33238\tvalidation_1-xxx:1.46884\n",
      "[64]\tvalidation_0-rmse:58.6396\tvalidation_1-rmse:80.7484\tvalidation_0-xxx:1.33116\tvalidation_1-xxx:1.46801\n",
      "[65]\tvalidation_0-rmse:58.6221\tvalidation_1-rmse:80.7458\tvalidation_0-xxx:1.33089\tvalidation_1-xxx:1.46745\n",
      "[66]\tvalidation_0-rmse:58.5863\tvalidation_1-rmse:80.7464\tvalidation_0-xxx:1.33064\tvalidation_1-xxx:1.46711\n",
      "[67]\tvalidation_0-rmse:58.5483\tvalidation_1-rmse:80.7457\tvalidation_0-xxx:1.33178\tvalidation_1-xxx:1.46775\n",
      "[68]\tvalidation_0-rmse:58.5143\tvalidation_1-rmse:80.7446\tvalidation_0-xxx:1.33099\tvalidation_1-xxx:1.46762\n",
      "[69]\tvalidation_0-rmse:58.4535\tvalidation_1-rmse:80.7479\tvalidation_0-xxx:1.33112\tvalidation_1-xxx:1.46668\n",
      "[70]\tvalidation_0-rmse:58.3945\tvalidation_1-rmse:80.7515\tvalidation_0-xxx:1.33071\tvalidation_1-xxx:1.46747\n",
      "[71]\tvalidation_0-rmse:58.3627\tvalidation_1-rmse:80.7524\tvalidation_0-xxx:1.32952\tvalidation_1-xxx:1.4668\n",
      "[72]\tvalidation_0-rmse:58.3334\tvalidation_1-rmse:80.7541\tvalidation_0-xxx:1.32882\tvalidation_1-xxx:1.46612\n",
      "[73]\tvalidation_0-rmse:58.2959\tvalidation_1-rmse:80.7537\tvalidation_0-xxx:1.32725\tvalidation_1-xxx:1.46502\n",
      "[74]\tvalidation_0-rmse:58.2594\tvalidation_1-rmse:80.7541\tvalidation_0-xxx:1.32644\tvalidation_1-xxx:1.4645\n",
      "[75]\tvalidation_0-rmse:58.2249\tvalidation_1-rmse:80.7566\tvalidation_0-xxx:1.3254\tvalidation_1-xxx:1.46375\n",
      "[76]\tvalidation_0-rmse:58.1768\tvalidation_1-rmse:80.7555\tvalidation_0-xxx:1.3247\tvalidation_1-xxx:1.46383\n",
      "[77]\tvalidation_0-rmse:58.1318\tvalidation_1-rmse:80.7616\tvalidation_0-xxx:1.32465\tvalidation_1-xxx:1.46412\n"
     ]
    },
    {
     "name": "stdout",
     "output_type": "stream",
     "text": [
      "[78]\tvalidation_0-rmse:58.0685\tvalidation_1-rmse:80.7673\tvalidation_0-xxx:1.32276\tvalidation_1-xxx:1.46338\n",
      "[79]\tvalidation_0-rmse:58.0243\tvalidation_1-rmse:80.7682\tvalidation_0-xxx:1.32188\tvalidation_1-xxx:1.46277\n",
      "[80]\tvalidation_0-rmse:57.993\tvalidation_1-rmse:80.7667\tvalidation_0-xxx:1.32103\tvalidation_1-xxx:1.4624\n",
      "[81]\tvalidation_0-rmse:57.9393\tvalidation_1-rmse:80.7709\tvalidation_0-xxx:1.32147\tvalidation_1-xxx:1.46353\n",
      "[82]\tvalidation_0-rmse:57.8898\tvalidation_1-rmse:80.7751\tvalidation_0-xxx:1.3201\tvalidation_1-xxx:1.4626\n",
      "[83]\tvalidation_0-rmse:57.881\tvalidation_1-rmse:80.7736\tvalidation_0-xxx:1.31953\tvalidation_1-xxx:1.46236\n",
      "[84]\tvalidation_0-rmse:57.8214\tvalidation_1-rmse:80.7761\tvalidation_0-xxx:1.3182\tvalidation_1-xxx:1.46181\n",
      "[85]\tvalidation_0-rmse:57.7612\tvalidation_1-rmse:80.7782\tvalidation_0-xxx:1.31803\tvalidation_1-xxx:1.46155\n",
      "[86]\tvalidation_0-rmse:57.7355\tvalidation_1-rmse:80.7766\tvalidation_0-xxx:1.31799\tvalidation_1-xxx:1.46091\n",
      "[87]\tvalidation_0-rmse:57.7081\tvalidation_1-rmse:80.7785\tvalidation_0-xxx:1.31776\tvalidation_1-xxx:1.46162\n",
      "[88]\tvalidation_0-rmse:57.6177\tvalidation_1-rmse:80.7793\tvalidation_0-xxx:1.3172\tvalidation_1-xxx:1.46263\n",
      "[89]\tvalidation_0-rmse:57.5851\tvalidation_1-rmse:80.782\tvalidation_0-xxx:1.31658\tvalidation_1-xxx:1.46294\n",
      "[90]\tvalidation_0-rmse:57.5431\tvalidation_1-rmse:80.7827\tvalidation_0-xxx:1.31463\tvalidation_1-xxx:1.4614\n",
      "[91]\tvalidation_0-rmse:57.494\tvalidation_1-rmse:80.7844\tvalidation_0-xxx:1.31475\tvalidation_1-xxx:1.46163\n",
      "[92]\tvalidation_0-rmse:57.4749\tvalidation_1-rmse:80.7856\tvalidation_0-xxx:1.31346\tvalidation_1-xxx:1.46134\n",
      "[93]\tvalidation_0-rmse:57.4109\tvalidation_1-rmse:80.7853\tvalidation_0-xxx:1.31221\tvalidation_1-xxx:1.4609\n",
      "[94]\tvalidation_0-rmse:57.3826\tvalidation_1-rmse:80.785\tvalidation_0-xxx:1.31162\tvalidation_1-xxx:1.46091\n",
      "[95]\tvalidation_0-rmse:57.3375\tvalidation_1-rmse:80.7874\tvalidation_0-xxx:1.3115\tvalidation_1-xxx:1.46042\n",
      "[96]\tvalidation_0-rmse:57.3003\tvalidation_1-rmse:80.7893\tvalidation_0-xxx:1.30998\tvalidation_1-xxx:1.46019\n",
      "[97]\tvalidation_0-rmse:57.2486\tvalidation_1-rmse:80.7877\tvalidation_0-xxx:1.30789\tvalidation_1-xxx:1.45853\n",
      "[98]\tvalidation_0-rmse:57.2041\tvalidation_1-rmse:80.7866\tvalidation_0-xxx:1.30671\tvalidation_1-xxx:1.4584\n",
      "[99]\tvalidation_0-rmse:57.1481\tvalidation_1-rmse:80.7867\tvalidation_0-xxx:1.30649\tvalidation_1-xxx:1.45773\n"
     ]
    },
    {
     "data": {
      "text/plain": [
       "XGBRegressor(base_score=0.5, booster='gbtree', colsample_bylevel=1,\n",
       "       colsample_bytree=0.8, gamma=0.001, learning_rate=0.1,\n",
       "       max_delta_step=0, max_depth=11, min_child_weight=1, missing=nan,\n",
       "       n_estimators=100, n_jobs=4, nthread=None, objective='reg:linear',\n",
       "       random_state=314, reg_alpha=1e-05, reg_lambda=1, scale_pos_weight=1,\n",
       "       seed=314, silent=1, subsample=1)"
      ]
     },
     "execution_count": 33,
     "metadata": {},
     "output_type": "execute_result"
    }
   ],
   "source": [
    "clf_cont = xgb.XGBRegressor(**clf.get_params())\n",
    "clf_cont.fit(X_train, y_train, \n",
    "        eval_set=[(X_train, y_train), (X_test, y_test)],\n",
    "        eval_metric=evaluate_loss_xgb,\n",
    "        verbose=True, xgb_model=clf.get_booster())"
   ]
  },
  {
   "cell_type": "code",
   "execution_count": 34,
   "metadata": {},
   "outputs": [
    {
     "data": {
      "image/png": "[encoded data removed]",
      "text/plain": [
       "<matplotlib.figure.Figure at 0x7f6b96858908>"
      ]
     },
     "metadata": {},
     "output_type": "display_data"
    }
   ],
   "source": [
    "plotClfPerfEvolution(clf_cont, title='Fine-tuned XGboost (2ns iteration of GS) with FULL TRAINING SET CONTINUE TRAINING')"
   ]
  },
  {
   "cell_type": "markdown",
   "metadata": {},
   "source": [
    "## Same as above, but for the fine-tuned classifier and pT range applier to the evaluation¶"
   ]
  },
  {
   "cell_type": "code",
   "execution_count": 35,
   "metadata": {},
   "outputs": [
    {
     "data": {
      "text/plain": [
       "{'base_score': 0.5,\n",
       " 'booster': 'gbtree',\n",
       " 'colsample_bylevel': 1,\n",
       " 'colsample_bytree': 0.8,\n",
       " 'gamma': 0.001,\n",
       " 'learning_rate': 0.1,\n",
       " 'max_delta_step': 0,\n",
       " 'max_depth': 11,\n",
       " 'min_child_weight': 1,\n",
       " 'missing': nan,\n",
       " 'n_estimators': 100,\n",
       " 'n_jobs': 1,\n",
       " 'nthread': None,\n",
       " 'objective': 'reg:linear',\n",
       " 'random_state': 314,\n",
       " 'reg_alpha': 1e-05,\n",
       " 'reg_lambda': 1,\n",
       " 'scale_pos_weight': 1,\n",
       " 'seed': 314,\n",
       " 'silent': 1,\n",
       " 'subsample': 1}"
      ]
     },
     "execution_count": 35,
     "metadata": {},
     "output_type": "execute_result"
    }
   ],
   "source": [
    "gs1_2it_Clf = joblib.load('gs1_2it_ClfOnly_FullSampleTrained.joblib.dat')\n",
    "gs1_2it_Clf.get_params()"
   ]
  },
  {
   "cell_type": "code",
   "execution_count": 36,
   "metadata": {},
   "outputs": [
    {
     "data": {
      "text/plain": [
       "XGBRegressor(base_score=0.5, booster='gbtree', colsample_bylevel=1,\n",
       "       colsample_bytree=0.8, gamma=0.001, learning_rate=0.1,\n",
       "       max_delta_step=0, max_depth=11, min_child_weight=1, missing=nan,\n",
       "       n_estimators=100, n_jobs=4, nthread=None, objective='reg:linear',\n",
       "       random_state=314, reg_alpha=1e-05, reg_lambda=1, scale_pos_weight=1,\n",
       "       seed=314, silent=1, subsample=1)"
      ]
     },
     "execution_count": 36,
     "metadata": {},
     "output_type": "execute_result"
    }
   ],
   "source": [
    "gs1_2it_Clf.set_params(**{'n_jobs': 4})"
   ]
  },
  {
   "cell_type": "code",
   "execution_count": 37,
   "metadata": {},
   "outputs": [
    {
     "name": "stdout",
     "output_type": "stream",
     "text": [
      "[0]\tvalidation_0-rmse:296.048\tvalidation_1-rmse:296.392\tvalidation_0-xxx:2.22464\tvalidation_1-xxx:2.25466\n"
     ]
    },
    {
     "name": "stderr",
     "output_type": "stream",
     "text": [
      "/home/mlisovyi/atlas/IML2018/IML_challenge_2018/IML2018_tools.py:81: RuntimeWarning: divide by zero encountered in true_divide\n",
      "  ratio = predictions / t\n"
     ]
    },
    {
     "name": "stdout",
     "output_type": "stream",
     "text": [
      "[1]\tvalidation_0-rmse:268.808\tvalidation_1-rmse:269.309\tvalidation_0-xxx:2.18749\tvalidation_1-xxx:2.21925\n",
      "[2]\tvalidation_0-rmse:245.243\tvalidation_1-rmse:245.972\tvalidation_0-xxx:2.21526\tvalidation_1-xxx:2.24617\n",
      "[3]\tvalidation_0-rmse:223.412\tvalidation_1-rmse:224.361\tvalidation_0-xxx:2.15213\tvalidation_1-xxx:2.18086\n",
      "[4]\tvalidation_0-rmse:204.017\tvalidation_1-rmse:205.193\tvalidation_0-xxx:2.08487\tvalidation_1-xxx:2.11302\n",
      "[5]\tvalidation_0-rmse:186.746\tvalidation_1-rmse:188.228\tvalidation_0-xxx:2.04286\tvalidation_1-xxx:2.07893\n",
      "[6]\tvalidation_0-rmse:171.453\tvalidation_1-rmse:173.249\tvalidation_0-xxx:2.00641\tvalidation_1-xxx:2.04314\n",
      "[7]\tvalidation_0-rmse:157.913\tvalidation_1-rmse:160.035\tvalidation_0-xxx:1.98377\tvalidation_1-xxx:2.0185\n",
      "[8]\tvalidation_0-rmse:145.969\tvalidation_1-rmse:148.462\tvalidation_0-xxx:1.95924\tvalidation_1-xxx:1.99933\n",
      "[9]\tvalidation_0-rmse:135.981\tvalidation_1-rmse:138.891\tvalidation_0-xxx:2.00298\tvalidation_1-xxx:2.04322\n",
      "[10]\tvalidation_0-rmse:126.721\tvalidation_1-rmse:130.035\tvalidation_0-xxx:1.97199\tvalidation_1-xxx:2.01391\n",
      "[11]\tvalidation_0-rmse:118.647\tvalidation_1-rmse:122.388\tvalidation_0-xxx:1.94366\tvalidation_1-xxx:1.98802\n",
      "[12]\tvalidation_0-rmse:111.649\tvalidation_1-rmse:115.834\tvalidation_0-xxx:1.91957\tvalidation_1-xxx:1.9664\n",
      "[13]\tvalidation_0-rmse:105.578\tvalidation_1-rmse:110.219\tvalidation_0-xxx:1.89996\tvalidation_1-xxx:1.94387\n",
      "[14]\tvalidation_0-rmse:100.306\tvalidation_1-rmse:105.444\tvalidation_0-xxx:1.87628\tvalidation_1-xxx:1.92027\n",
      "[15]\tvalidation_0-rmse:95.7766\tvalidation_1-rmse:101.374\tvalidation_0-xxx:1.85647\tvalidation_1-xxx:1.90208\n",
      "[16]\tvalidation_0-rmse:91.9031\tvalidation_1-rmse:97.9492\tvalidation_0-xxx:1.84431\tvalidation_1-xxx:1.88922\n",
      "[17]\tvalidation_0-rmse:88.6\tvalidation_1-rmse:95.0748\tvalidation_0-xxx:1.83036\tvalidation_1-xxx:1.87567\n",
      "[18]\tvalidation_0-rmse:85.7798\tvalidation_1-rmse:92.6605\tvalidation_0-xxx:1.81521\tvalidation_1-xxx:1.86216\n",
      "[19]\tvalidation_0-rmse:83.383\tvalidation_1-rmse:90.6486\tvalidation_0-xxx:1.80442\tvalidation_1-xxx:1.85234\n",
      "[20]\tvalidation_0-rmse:81.3384\tvalidation_1-rmse:88.9662\tvalidation_0-xxx:1.78781\tvalidation_1-xxx:1.83598\n",
      "[21]\tvalidation_0-rmse:79.5871\tvalidation_1-rmse:87.5687\tvalidation_0-xxx:1.76956\tvalidation_1-xxx:1.81859\n",
      "[22]\tvalidation_0-rmse:78.0607\tvalidation_1-rmse:86.4136\tvalidation_0-xxx:1.75413\tvalidation_1-xxx:1.80299\n",
      "[23]\tvalidation_0-rmse:76.834\tvalidation_1-rmse:85.4666\tvalidation_0-xxx:1.7428\tvalidation_1-xxx:1.79203\n",
      "[24]\tvalidation_0-rmse:75.9689\tvalidation_1-rmse:84.8825\tvalidation_0-xxx:1.74111\tvalidation_1-xxx:1.79156\n",
      "[25]\tvalidation_0-rmse:74.9875\tvalidation_1-rmse:84.1875\tvalidation_0-xxx:1.73107\tvalidation_1-xxx:1.78009\n",
      "[26]\tvalidation_0-rmse:74.1859\tvalidation_1-rmse:83.6274\tvalidation_0-xxx:1.71888\tvalidation_1-xxx:1.76705\n",
      "[27]\tvalidation_0-rmse:73.4396\tvalidation_1-rmse:83.1539\tvalidation_0-xxx:1.70646\tvalidation_1-xxx:1.75598\n",
      "[28]\tvalidation_0-rmse:72.7746\tvalidation_1-rmse:82.7615\tvalidation_0-xxx:1.69556\tvalidation_1-xxx:1.74584\n",
      "[29]\tvalidation_0-rmse:72.2054\tvalidation_1-rmse:82.4424\tvalidation_0-xxx:1.68975\tvalidation_1-xxx:1.74065\n",
      "[30]\tvalidation_0-rmse:71.772\tvalidation_1-rmse:82.2036\tvalidation_0-xxx:1.68891\tvalidation_1-xxx:1.74029\n",
      "[31]\tvalidation_0-rmse:71.2836\tvalidation_1-rmse:81.9816\tvalidation_0-xxx:1.67573\tvalidation_1-xxx:1.72863\n",
      "[32]\tvalidation_0-rmse:70.8844\tvalidation_1-rmse:81.7795\tvalidation_0-xxx:1.66388\tvalidation_1-xxx:1.71867\n",
      "[33]\tvalidation_0-rmse:70.5326\tvalidation_1-rmse:81.6273\tvalidation_0-xxx:1.64983\tvalidation_1-xxx:1.70525\n",
      "[34]\tvalidation_0-rmse:70.2231\tvalidation_1-rmse:81.5025\tvalidation_0-xxx:1.63947\tvalidation_1-xxx:1.69704\n",
      "[35]\tvalidation_0-rmse:69.9353\tvalidation_1-rmse:81.3894\tvalidation_0-xxx:1.62999\tvalidation_1-xxx:1.69031\n",
      "[36]\tvalidation_0-rmse:69.6784\tvalidation_1-rmse:81.3041\tvalidation_0-xxx:1.62198\tvalidation_1-xxx:1.68545\n",
      "[37]\tvalidation_0-rmse:69.4331\tvalidation_1-rmse:81.2232\tvalidation_0-xxx:1.61201\tvalidation_1-xxx:1.67595\n",
      "[38]\tvalidation_0-rmse:69.2208\tvalidation_1-rmse:81.1685\tvalidation_0-xxx:1.60605\tvalidation_1-xxx:1.66913\n",
      "[39]\tvalidation_0-rmse:69.0322\tvalidation_1-rmse:81.1127\tvalidation_0-xxx:1.59703\tvalidation_1-xxx:1.66034\n",
      "[40]\tvalidation_0-rmse:68.7797\tvalidation_1-rmse:81.0653\tvalidation_0-xxx:1.58622\tvalidation_1-xxx:1.65062\n",
      "[41]\tvalidation_0-rmse:68.6017\tvalidation_1-rmse:81.0291\tvalidation_0-xxx:1.57954\tvalidation_1-xxx:1.64521\n",
      "[42]\tvalidation_0-rmse:68.3946\tvalidation_1-rmse:80.9974\tvalidation_0-xxx:1.57214\tvalidation_1-xxx:1.6392\n",
      "[43]\tvalidation_0-rmse:68.248\tvalidation_1-rmse:80.9771\tvalidation_0-xxx:1.57037\tvalidation_1-xxx:1.63691\n",
      "[44]\tvalidation_0-rmse:68.1144\tvalidation_1-rmse:80.9493\tvalidation_0-xxx:1.55994\tvalidation_1-xxx:1.62744\n",
      "[45]\tvalidation_0-rmse:67.9584\tvalidation_1-rmse:80.9301\tvalidation_0-xxx:1.55431\tvalidation_1-xxx:1.62319\n",
      "[46]\tvalidation_0-rmse:67.7409\tvalidation_1-rmse:80.9164\tvalidation_0-xxx:1.54908\tvalidation_1-xxx:1.61754\n",
      "[47]\tvalidation_0-rmse:67.5718\tvalidation_1-rmse:80.8951\tvalidation_0-xxx:1.54387\tvalidation_1-xxx:1.61506\n",
      "[48]\tvalidation_0-rmse:67.4277\tvalidation_1-rmse:80.8765\tvalidation_0-xxx:1.53852\tvalidation_1-xxx:1.61141\n",
      "[49]\tvalidation_0-rmse:67.2824\tvalidation_1-rmse:80.861\tvalidation_0-xxx:1.5316\tvalidation_1-xxx:1.60702\n",
      "[50]\tvalidation_0-rmse:67.1586\tvalidation_1-rmse:80.8425\tvalidation_0-xxx:1.52618\tvalidation_1-xxx:1.60091\n",
      "[51]\tvalidation_0-rmse:67.0222\tvalidation_1-rmse:80.8309\tvalidation_0-xxx:1.52009\tvalidation_1-xxx:1.59621\n",
      "[52]\tvalidation_0-rmse:66.8956\tvalidation_1-rmse:80.8136\tvalidation_0-xxx:1.51191\tvalidation_1-xxx:1.5888\n",
      "[53]\tvalidation_0-rmse:66.7221\tvalidation_1-rmse:80.8055\tvalidation_0-xxx:1.50568\tvalidation_1-xxx:1.58609\n",
      "[54]\tvalidation_0-rmse:66.6044\tvalidation_1-rmse:80.7948\tvalidation_0-xxx:1.50047\tvalidation_1-xxx:1.58247\n",
      "[55]\tvalidation_0-rmse:66.5079\tvalidation_1-rmse:80.7852\tvalidation_0-xxx:1.49699\tvalidation_1-xxx:1.57857\n",
      "[56]\tvalidation_0-rmse:66.4374\tvalidation_1-rmse:80.7795\tvalidation_0-xxx:1.49473\tvalidation_1-xxx:1.57769\n",
      "[57]\tvalidation_0-rmse:66.1767\tvalidation_1-rmse:80.7732\tvalidation_0-xxx:1.48873\tvalidation_1-xxx:1.57231\n",
      "[58]\tvalidation_0-rmse:66.0472\tvalidation_1-rmse:80.7601\tvalidation_0-xxx:1.485\tvalidation_1-xxx:1.57126\n",
      "[59]\tvalidation_0-rmse:65.9832\tvalidation_1-rmse:80.7518\tvalidation_0-xxx:1.4801\tvalidation_1-xxx:1.56678\n",
      "[60]\tvalidation_0-rmse:65.8446\tvalidation_1-rmse:80.7523\tvalidation_0-xxx:1.47743\tvalidation_1-xxx:1.56412\n",
      "[61]\tvalidation_0-rmse:65.6619\tvalidation_1-rmse:80.7436\tvalidation_0-xxx:1.47477\tvalidation_1-xxx:1.56106\n",
      "[62]\tvalidation_0-rmse:65.5659\tvalidation_1-rmse:80.7395\tvalidation_0-xxx:1.47097\tvalidation_1-xxx:1.55954\n",
      "[63]\tvalidation_0-rmse:65.4719\tvalidation_1-rmse:80.7369\tvalidation_0-xxx:1.47036\tvalidation_1-xxx:1.55863\n",
      "[64]\tvalidation_0-rmse:65.3678\tvalidation_1-rmse:80.7328\tvalidation_0-xxx:1.46595\tvalidation_1-xxx:1.55615\n",
      "[65]\tvalidation_0-rmse:65.269\tvalidation_1-rmse:80.7272\tvalidation_0-xxx:1.46578\tvalidation_1-xxx:1.55509\n",
      "[66]\tvalidation_0-rmse:65.1787\tvalidation_1-rmse:80.7203\tvalidation_0-xxx:1.45981\tvalidation_1-xxx:1.5513\n",
      "[67]\tvalidation_0-rmse:65.0822\tvalidation_1-rmse:80.7258\tvalidation_0-xxx:1.45808\tvalidation_1-xxx:1.55024\n",
      "[68]\tvalidation_0-rmse:64.951\tvalidation_1-rmse:80.7262\tvalidation_0-xxx:1.45345\tvalidation_1-xxx:1.54745\n",
      "[69]\tvalidation_0-rmse:64.8649\tvalidation_1-rmse:80.7246\tvalidation_0-xxx:1.45206\tvalidation_1-xxx:1.54689\n",
      "[70]\tvalidation_0-rmse:64.7653\tvalidation_1-rmse:80.7228\tvalidation_0-xxx:1.44753\tvalidation_1-xxx:1.54404\n",
      "[71]\tvalidation_0-rmse:64.6867\tvalidation_1-rmse:80.7188\tvalidation_0-xxx:1.44655\tvalidation_1-xxx:1.54362\n",
      "[72]\tvalidation_0-rmse:64.6027\tvalidation_1-rmse:80.7194\tvalidation_0-xxx:1.44674\tvalidation_1-xxx:1.54432\n",
      "[73]\tvalidation_0-rmse:64.5109\tvalidation_1-rmse:80.7201\tvalidation_0-xxx:1.44582\tvalidation_1-xxx:1.54342\n",
      "[74]\tvalidation_0-rmse:64.3827\tvalidation_1-rmse:80.7168\tvalidation_0-xxx:1.44129\tvalidation_1-xxx:1.54076\n",
      "[75]\tvalidation_0-rmse:64.3018\tvalidation_1-rmse:80.7146\tvalidation_0-xxx:1.44074\tvalidation_1-xxx:1.54099\n",
      "[76]\tvalidation_0-rmse:64.2231\tvalidation_1-rmse:80.708\tvalidation_0-xxx:1.43818\tvalidation_1-xxx:1.53852\n",
      "[77]\tvalidation_0-rmse:64.1701\tvalidation_1-rmse:80.71\tvalidation_0-xxx:1.43728\tvalidation_1-xxx:1.53765\n"
     ]
    },
    {
     "name": "stdout",
     "output_type": "stream",
     "text": [
      "[78]\tvalidation_0-rmse:64.0798\tvalidation_1-rmse:80.7095\tvalidation_0-xxx:1.43454\tvalidation_1-xxx:1.53615\n",
      "[79]\tvalidation_0-rmse:64.0044\tvalidation_1-rmse:80.7071\tvalidation_0-xxx:1.43278\tvalidation_1-xxx:1.53506\n",
      "[80]\tvalidation_0-rmse:63.9072\tvalidation_1-rmse:80.7011\tvalidation_0-xxx:1.43288\tvalidation_1-xxx:1.53452\n",
      "[81]\tvalidation_0-rmse:63.8405\tvalidation_1-rmse:80.7068\tvalidation_0-xxx:1.43012\tvalidation_1-xxx:1.53135\n",
      "[82]\tvalidation_0-rmse:63.7131\tvalidation_1-rmse:80.707\tvalidation_0-xxx:1.42794\tvalidation_1-xxx:1.52952\n",
      "[83]\tvalidation_0-rmse:63.6289\tvalidation_1-rmse:80.7104\tvalidation_0-xxx:1.42704\tvalidation_1-xxx:1.52773\n",
      "[84]\tvalidation_0-rmse:63.5631\tvalidation_1-rmse:80.7079\tvalidation_0-xxx:1.42641\tvalidation_1-xxx:1.52807\n",
      "[85]\tvalidation_0-rmse:63.4937\tvalidation_1-rmse:80.7062\tvalidation_0-xxx:1.42495\tvalidation_1-xxx:1.52794\n",
      "[86]\tvalidation_0-rmse:63.4432\tvalidation_1-rmse:80.7092\tvalidation_0-xxx:1.42391\tvalidation_1-xxx:1.52689\n",
      "[87]\tvalidation_0-rmse:63.3446\tvalidation_1-rmse:80.7111\tvalidation_0-xxx:1.42005\tvalidation_1-xxx:1.52337\n",
      "[88]\tvalidation_0-rmse:63.2486\tvalidation_1-rmse:80.7089\tvalidation_0-xxx:1.41643\tvalidation_1-xxx:1.52083\n",
      "[89]\tvalidation_0-rmse:63.1846\tvalidation_1-rmse:80.7074\tvalidation_0-xxx:1.41445\tvalidation_1-xxx:1.51935\n",
      "[90]\tvalidation_0-rmse:63.1192\tvalidation_1-rmse:80.7044\tvalidation_0-xxx:1.41476\tvalidation_1-xxx:1.51858\n",
      "[91]\tvalidation_0-rmse:63.0344\tvalidation_1-rmse:80.7022\tvalidation_0-xxx:1.41218\tvalidation_1-xxx:1.51681\n",
      "[92]\tvalidation_0-rmse:62.9588\tvalidation_1-rmse:80.7017\tvalidation_0-xxx:1.40984\tvalidation_1-xxx:1.51458\n",
      "[93]\tvalidation_0-rmse:62.8779\tvalidation_1-rmse:80.7046\tvalidation_0-xxx:1.41087\tvalidation_1-xxx:1.51459\n",
      "[94]\tvalidation_0-rmse:62.8042\tvalidation_1-rmse:80.7114\tvalidation_0-xxx:1.40936\tvalidation_1-xxx:1.51403\n",
      "[95]\tvalidation_0-rmse:62.7287\tvalidation_1-rmse:80.7115\tvalidation_0-xxx:1.40919\tvalidation_1-xxx:1.5145\n",
      "[96]\tvalidation_0-rmse:62.6574\tvalidation_1-rmse:80.713\tvalidation_0-xxx:1.40818\tvalidation_1-xxx:1.51358\n",
      "[97]\tvalidation_0-rmse:62.6173\tvalidation_1-rmse:80.7124\tvalidation_0-xxx:1.40727\tvalidation_1-xxx:1.51275\n",
      "[98]\tvalidation_0-rmse:62.5446\tvalidation_1-rmse:80.7075\tvalidation_0-xxx:1.40546\tvalidation_1-xxx:1.51239\n",
      "[99]\tvalidation_0-rmse:62.4772\tvalidation_1-rmse:80.7081\tvalidation_0-xxx:1.40207\tvalidation_1-xxx:1.50978\n"
     ]
    },
    {
     "data": {
      "text/plain": [
       "XGBRegressor(base_score=0.5, booster='gbtree', colsample_bylevel=1,\n",
       "       colsample_bytree=0.8, gamma=0.001, learning_rate=0.1,\n",
       "       max_delta_step=0, max_depth=11, min_child_weight=1, missing=nan,\n",
       "       n_estimators=100, n_jobs=4, nthread=None, objective='reg:linear',\n",
       "       random_state=314, reg_alpha=1e-05, reg_lambda=1, scale_pos_weight=1,\n",
       "       seed=314, silent=1, subsample=1)"
      ]
     },
     "execution_count": 37,
     "metadata": {},
     "output_type": "execute_result"
    }
   ],
   "source": [
    "gs1_2it_Clf.fit(X_train, y_train, \n",
    "        eval_set=[(X_train, y_train), (X_test, y_test)],\n",
    "        eval_metric=evaluate_loss_xgb,\n",
    "        verbose=True)"
   ]
  },
  {
   "cell_type": "code",
   "execution_count": 38,
   "metadata": {},
   "outputs": [
    {
     "data": {
      "image/png": "[encoded data removed]",
      "text/plain": [
       "<matplotlib.figure.Figure at 0x7f6b968f2e10>"
      ]
     },
     "metadata": {},
     "output_type": "display_data"
    }
   ],
   "source": [
    "plotClfPerfEvolution(gs1_2it_Clf, 'Fine-tuned XGboost (2ns iteration of GS) with FULL TRAINING SET 5 < pT < 7 TeV')"
   ]
  },
  {
   "cell_type": "markdown",
   "metadata": {},
   "source": [
    "## Same original tune, butfit on PCA-transformed inputs"
   ]
  },
  {
   "cell_type": "code",
   "execution_count": 40,
   "metadata": {},
   "outputs": [],
   "source": [
    "x = gs1_2it.best_estimator_.get_params()\n",
    "del x['n_job']\n",
    "x['n_jobs'] = 4"
   ]
  },
  {
   "cell_type": "code",
   "execution_count": null,
   "metadata": {},
   "outputs": [
    {
     "name": "stderr",
     "output_type": "stream",
     "text": [
      "/home/mlisovyi/atlas/IML2018/IML_challenge_2018/IML2018_tools.py:81: RuntimeWarning: divide by zero encountered in true_divide\n",
      "  ratio = predictions / t\n"
     ]
    }
   ],
   "source": [
    "clf.set_params(**x)\n",
    "clf.fit(X_train_pca, y_train, \n",
    "        eval_set=[(X_train_pca, y_train), (X_test_pca, y_test)],\n",
    "        eval_metric=evaluate_loss_xgb,\n",
    "        verbose=False)"
   ]
  },
  {
   "cell_type": "code",
   "execution_count": null,
   "metadata": {},
   "outputs": [],
   "source": [
    "plotClfPerfEvolution(clf, title='PCA transform of inputs')"
   ]
  },
  {
   "cell_type": "markdown",
   "metadata": {},
   "source": [
    "## Default XGBoost parameters"
   ]
  },
  {
   "cell_type": "code",
   "execution_count": null,
   "metadata": {},
   "outputs": [],
   "source": [
    "clf_def = xgb.XGBRegressor(**xgb_params)\n",
    "\n",
    "clf_def.fit(X_train_pca, y_train, \n",
    "        eval_set=[(X_train_pca, y_train), (X_test_pca, y_test)],\n",
    "        eval_metric=evaluate_loss_xgb,\n",
    "        verbose=False)"
   ]
  },
  {
   "cell_type": "code",
   "execution_count": null,
   "metadata": {},
   "outputs": [],
   "source": [
    "plotClfPerfEvolution(clf_def, title='PCA transform of inputs DEFAULT XGBoost')"
   ]
  },
  {
   "cell_type": "markdown",
   "metadata": {},
   "source": [
    "## PCA train"
   ]
  },
  {
   "cell_type": "code",
   "execution_count": null,
   "metadata": {},
   "outputs": [],
   "source": [
    "gs2 = joblib.load('gs2.joblib.dat')"
   ]
  },
  {
   "cell_type": "code",
   "execution_count": null,
   "metadata": {},
   "outputs": [],
   "source": [
    "gs2.best_estimator_.get_params()"
   ]
  },
  {
   "cell_type": "code",
   "execution_count": null,
   "metadata": {},
   "outputs": [],
   "source": [
    "clf_pca_hyp = xgb.XGBRegressor(**gs2.best_estimator_.get_params())\n",
    "clf_pca_hyp.set_params(**{'max_depth': 7})\n",
    "\n",
    "clf_pca_hyp.fit(X_train_pca, y_train, \n",
    "        eval_set=[(X_train_pca, y_train), (X_test_pca, y_test)],\n",
    "        eval_metric=evaluate_loss_xgb,\n",
    "        verbose=False)"
   ]
  },
  {
   "cell_type": "code",
   "execution_count": null,
   "metadata": {},
   "outputs": [],
   "source": [
    "plotClfPerfEvolution(clf_pca_hyp, title='PCA transform of inputs HYP-optimised XGBoost')"
   ]
  },
  {
   "cell_type": "code",
   "execution_count": null,
   "metadata": {},
   "outputs": [],
   "source": [
    "plotClfPerfEvolution(clf_pca_hyp, title='PCA transform of inputs HYP-optimised XGBoost and max_depth = 7')"
   ]
  },
  {
   "cell_type": "code",
   "execution_count": null,
   "metadata": {
    "collapsed": true
   },
   "outputs": [],
   "source": []
  }
 ],
 "metadata": {
  "kernelspec": {
   "display_name": "Python 3",
   "language": "python",
   "name": "python3"
  },
  "language_info": {
   "codemirror_mode": {
    "name": "ipython",
    "version": 3
   },
   "file_extension": ".py",
   "mimetype": "text/x-python",
   "name": "python",
   "nbconvert_exporter": "python",
   "pygments_lexer": "ipython3",
   "version": "3.6.4"
  }
 },
 "nbformat": 4,
 "nbformat_minor": 2
}
